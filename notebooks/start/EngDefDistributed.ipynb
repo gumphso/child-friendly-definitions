{
 "cells": [
  {
   "cell_type": "code",
   "execution_count": 1,
   "metadata": {},
   "outputs": [
    {
     "name": "stderr",
     "output_type": "stream",
     "text": [
      "2023-04-16 15:35:34.986959: I tensorflow/core/platform/cpu_feature_guard.cc:193] This TensorFlow binary is optimized with oneAPI Deep Neural Network Library (oneDNN) to use the following CPU instructions in performance-critical operations:  AVX2 FMA\n",
      "To enable them in other operations, rebuild TensorFlow with the appropriate compiler flags.\n",
      "2023-04-16 15:35:35.826723: W tensorflow/compiler/xla/stream_executor/platform/default/dso_loader.cc:64] Could not load dynamic library 'libnvinfer.so.7'; dlerror: libnvinfer.so.7: cannot open shared object file: No such file or directory; LD_LIBRARY_PATH: :/home/tensor/anaconda3/envs/tf/lib/:/lib:/home/tensor/anaconda3/envs/tf/lib/:/home/tensor/anaconda3/envs/tf/lib/python3.9/site-packages/nvidia/cudnn/lib:/home/tensor/anaconda3/envs/tf/lib/:/home/tensor/anaconda3/envs/tf/lib/python3.9/site-packages/nvidia/cudnn/lib\n",
      "2023-04-16 15:35:35.826808: W tensorflow/compiler/xla/stream_executor/platform/default/dso_loader.cc:64] Could not load dynamic library 'libnvinfer_plugin.so.7'; dlerror: libnvinfer_plugin.so.7: cannot open shared object file: No such file or directory; LD_LIBRARY_PATH: :/home/tensor/anaconda3/envs/tf/lib/:/lib:/home/tensor/anaconda3/envs/tf/lib/:/home/tensor/anaconda3/envs/tf/lib/python3.9/site-packages/nvidia/cudnn/lib:/home/tensor/anaconda3/envs/tf/lib/:/home/tensor/anaconda3/envs/tf/lib/python3.9/site-packages/nvidia/cudnn/lib\n",
      "2023-04-16 15:35:35.826814: W tensorflow/compiler/tf2tensorrt/utils/py_utils.cc:38] TF-TRT Warning: Cannot dlopen some TensorRT libraries. If you would like to use Nvidia GPU with TensorRT, please make sure the missing libraries mentioned above are installed properly.\n"
     ]
    },
    {
     "name": "stdout",
     "output_type": "stream",
     "text": [
      "INFO:tensorflow:Single-worker MultiWorkerMirroredStrategy with local_devices = ('/device:GPU:0', '/device:GPU:1'), communication = CommunicationImplementation.AUTO\n",
      "Number of devices: 2\n"
     ]
    }
   ],
   "source": [
    "import tensorflow as tf; \n",
    "gpu_devices = tf.config.list_physical_devices('GPU')\n",
    "for device in gpu_devices:\n",
    "    tf.config.experimental.set_memory_growth(device, True)\n",
    "\n",
    "strategy = tf.distribute.MultiWorkerMirroredStrategy()\n",
    "\n",
    "print('Number of devices: {}'.format(strategy.num_replicas_in_sync))"
   ]
  },
  {
   "cell_type": "code",
   "execution_count": 2,
   "metadata": {
    "executionInfo": {
     "elapsed": 4911,
     "status": "ok",
     "timestamp": 1680126513113,
     "user": {
      "displayName": "Tyler Jarboe",
      "userId": "08629846309066612484"
     },
     "user_tz": 240
    },
    "id": "KKThGm-729c9"
   },
   "outputs": [],
   "source": [
    "#pip install -q -U tensorflow-text==2.11.*"
   ]
  },
  {
   "cell_type": "markdown",
   "metadata": {
    "id": "C_KWwOII29c-"
   },
   "source": [
    "Model Transformer"
   ]
  },
  {
   "cell_type": "code",
   "execution_count": 3,
   "metadata": {
    "executionInfo": {
     "elapsed": 1777,
     "status": "ok",
     "timestamp": 1680126518565,
     "user": {
      "displayName": "Tyler Jarboe",
      "userId": "08629846309066612484"
     },
     "user_tz": 240
    },
    "id": "zpwNAGET4Ey5"
   },
   "outputs": [],
   "source": [
    "from tensorflow import keras\n",
    "from tensorflow.keras import layers\n",
    "import tensorflow as tf\n",
    "import pandas as pd\n",
    "import numpy as np\n",
    "import collections\n",
    "import os\n",
    "import pathlib\n",
    "import re\n",
    "import string\n",
    "import sys\n",
    "import tempfile\n",
    "import time\n",
    "#from tqdm import tqdm\n",
    "\n",
    "import numpy as np\n",
    "import matplotlib.pyplot as plt\n",
    "\n",
    "#import tensorflow_datasets as tfds\n",
    "import tensorflow_text as text\n",
    "import tensorflow as tf\n",
    "\n",
    "# Method adds the start and the end tags to the tokenized words\n",
    "def add_start_end(ragged, START, END):\n",
    "  count = ragged.bounding_shape()[0]\n",
    "  starts = tf.fill([count,1], START) # START\n",
    "  ends = tf.fill([count,1], END) # END\n",
    "  return tf.concat([starts, ragged, ends], axis=1)\n",
    "\n",
    "\n",
    "def cleanup_text(reserved_tokens, token_txt):\n",
    "  # Drop the reserved tokens, except for \"[UNK]\".\n",
    "  bad_tokens = [re.escape(tok) for tok in reserved_tokens if tok != \"[UNK]\"]\n",
    "  bad_token_re = \"|\".join(bad_tokens)\n",
    "\n",
    "  bad_cells = tf.strings.regex_full_match(token_txt, bad_token_re)\n",
    "  result = tf.ragged.boolean_mask(token_txt, ~bad_cells)\n",
    "\n",
    "  # Join them into strings.\n",
    "  result = tf.strings.reduce_join(result, separator=' ', axis=-1)\n",
    "\n",
    "  return result\n",
    "\n",
    "# Custome Tokenizer class that handles all the steps for tokenizing a list of strings.\n",
    "class CustomTokenizer(tf.Module):\n",
    "  def __init__(self, reserved_tokens, vocab_path):\n",
    "    self.tokenizer = text.BertTokenizer(vocab_path, lower_case=True)\n",
    "    #self.tokenizer = text.WordpieceTokenizer(vocab_path)\n",
    "    self._reserved_tokens = reserved_tokens\n",
    "    self._vocab_path = tf.saved_model.Asset(vocab_path)\n",
    "\n",
    "    vocab = pathlib.Path(vocab_path).read_text().splitlines()\n",
    "    self.vocab = tf.Variable(vocab)\n",
    "\n",
    "    ## Create the signatures for export:   \n",
    "\n",
    "    # Include a tokenize signature for a batch of strings. \n",
    "    self.tokenize.get_concrete_function(\n",
    "        tf.TensorSpec(shape=[None], dtype=tf.string))\n",
    "\n",
    "    # Include `detokenize` and `lookup` signatures for:\n",
    "    #   * `Tensors` with shapes [tokens] and [batch, tokens]\n",
    "    #   * `RaggedTensors` with shape [batch, tokens]\n",
    "    self.detokenize.get_concrete_function(\n",
    "        tf.TensorSpec(shape=[None, None], dtype=tf.int64))\n",
    "    self.detokenize.get_concrete_function(\n",
    "          tf.RaggedTensorSpec(shape=[None, None], dtype=tf.int64))\n",
    "\n",
    "    self.lookup.get_concrete_function(\n",
    "        tf.TensorSpec(shape=[None, None], dtype=tf.int64))\n",
    "    self.lookup.get_concrete_function(\n",
    "          tf.RaggedTensorSpec(shape=[None, None], dtype=tf.int64))\n",
    "\n",
    "    # These `get_*` methods take no arguments\n",
    "    self.get_vocab_size.get_concrete_function()\n",
    "    self.get_vocab_path.get_concrete_function()\n",
    "    self.get_reserved_tokens.get_concrete_function()\n",
    "\n",
    "  @tf.function\n",
    "  def tokenize(self, strings):\n",
    "    enc = self.tokenizer.tokenize(strings)\n",
    "    # Merge the `word` and `word-piece` axes.\n",
    "    enc = enc.merge_dims(-2,-1)\n",
    "\n",
    "    START = tf.argmax(tf.constant(self._reserved_tokens) == \"[start]\")\n",
    "    END = tf.argmax(tf.constant(self._reserved_tokens) == \"[end]\")\n",
    "\n",
    "    enc = add_start_end(enc, START, END)\n",
    "    return enc\n",
    "\n",
    "  @tf.function\n",
    "  def detokenize(self, tokenized):\n",
    "    words = self.tokenizer.detokenize(tokenized)\n",
    "    return cleanup_text(self._reserved_tokens, words)\n",
    "\n",
    "  @tf.function\n",
    "  def lookup(self, token_ids):\n",
    "    return tf.gather(self.vocab, token_ids)\n",
    "\n",
    "  @tf.function\n",
    "  def get_vocab_size(self):\n",
    "    return tf.shape(self.vocab)[0]\n",
    "\n",
    "  @tf.function\n",
    "  def get_vocab_path(self):\n",
    "    return self._vocab_path\n",
    "\n",
    "  @tf.function\n",
    "  def get_reserved_tokens(self):\n",
    "    return tf.constant(self._reserved_tokens)\n",
    "\n",
    "\n",
    "\n"
   ]
  },
  {
   "cell_type": "code",
   "execution_count": 4,
   "metadata": {
    "executionInfo": {
     "elapsed": 15,
     "status": "ok",
     "timestamp": 1680126518567,
     "user": {
      "displayName": "Tyler Jarboe",
      "userId": "08629846309066612484"
     },
     "user_tz": 240
    },
    "id": "jRhFIVla29dC"
   },
   "outputs": [],
   "source": [
    "from tensorflow.keras.preprocessing.text import Tokenizer\n",
    "from tensorflow.keras.preprocessing.sequence import pad_sequences\n",
    "import tensorflow as tf\n",
    "\n",
    "import tensorflow_text as text\n",
    "from tensorflow_text.tools.wordpiece_vocab import bert_vocab_from_dataset as bert_vocab\n",
    "\n",
    "# Converts a sentence to UTF-8 format\n",
    "def createSimplifiedSentence(sentence):\n",
    "    #copySentence = \"[start] \" + sentence + \" [end]\"\n",
    "    return sentence.encode(encoding = 'UTF-8', errors = 'strict')\n",
    "\n",
    "\n",
    "def convertText(words):\n",
    "\n",
    "    for i, sentence in enumerate(words):\n",
    "      modifiedSentence = createSimplifiedSentence(sentence=sentence)\n",
    "      words[i] = modifiedSentence\n",
    "\n",
    "    return words\n",
    "\n",
    "# Creates the vocab for the tokenizer\n",
    "def createTokenizerVocab(defDS, simpDS):\n",
    "  bert_tokenizer_params=dict(lower_case=True, preserve_unused_token=True)\n",
    "  reserved_tokens=[\"[pad]\", \"[unk]\", \"[start]\", \"[end]\"]\n",
    "\n",
    "  bert_vocab_args = dict(\n",
    "      # The target vocabulary size\n",
    "      vocab_size = 30000,\n",
    "      # Reserved tokens that must be included in the vocabulary\n",
    "      reserved_tokens=reserved_tokens,\n",
    "      # Arguments for `text.BertTokenizer`\n",
    "      bert_tokenizer_params=bert_tokenizer_params,\n",
    "      # Arguments for `wordpiece_vocab.wordpiece_tokenizer_learner_lib.learn`\n",
    "      learn_params={},\n",
    "  )\n",
    "\n",
    "  combined = np.concatenate((defDS, simpDS))\n",
    "  combinedDS = tf.data.Dataset.from_tensor_slices(combined)\n",
    "\n",
    "\n",
    "  en_vocab = bert_vocab.bert_vocab_from_dataset(\n",
    "    combinedDS.batch(1000).prefetch(tf.data.AUTOTUNE),\n",
    "    **bert_vocab_args\n",
    "  )\n",
    "\n",
    "  write_vocab_file('ENG.txt', en_vocab)\n",
    "\n",
    "# Method that will save the vocab file\n",
    "def write_vocab_file(filepath, vocab):\n",
    "  with open(filepath, 'w') as f:\n",
    "    for token in vocab:\n",
    "      print(token, file=f)"
   ]
  },
  {
   "cell_type": "code",
   "execution_count": 6,
   "metadata": {
    "executionInfo": {
     "elapsed": 66011,
     "status": "ok",
     "timestamp": 1680126588097,
     "user": {
      "displayName": "Tyler Jarboe",
      "userId": "08629846309066612484"
     },
     "user_tz": 240
    },
    "id": "URsWI56E29dE"
   },
   "outputs": [],
   "source": [
    "# Below we pull the data, split it into the training and test sets and create the tokenizer.\n",
    "\n",
    "fullDs = pd.read_csv(\"/home/tensor/Documents/Github/child-friendly-definitions/notebooks/start/fullDataset.csv\")\n",
    "fullDs = fullDs.sample(frac=1)  # shuffle the dataset\n",
    "fullDs = fullDs.astype(str)\n",
    "\n",
    "length = len(fullDs)\n",
    "trainRatio = int(0.9 * length)\n",
    "  \n",
    "x = fullDs['definition'].values[:trainRatio]\n",
    "y = fullDs['simplified_definition'].values[:trainRatio]\n",
    "\n",
    "val_x = fullDs['definition'].values[trainRatio:]\n",
    "val_y = fullDs['simplified_definition'].values[trainRatio:]\n",
    "# the two arrays below are tokenized and padded for thetf.data.Dataset.from_tensor_slices((full_train_x,full_train_y)) algorithm (possible to combine the two tokenizers into 1)\n",
    "full_train_x = convertText(x)\n",
    "full_train_y = convertText(y)\n",
    "\n",
    "full_val_x = convertText(val_x)\n",
    "full_val_y = convertText(val_y)\n",
    "\n",
    "createTokenizerVocab(full_train_x, full_train_y)\n",
    "# prepare the training data in a suitable format\n"
   ]
  },
  {
   "cell_type": "code",
   "execution_count": 7,
   "metadata": {
    "colab": {
     "base_uri": "https://localhost:8080/"
    },
    "executionInfo": {
     "elapsed": 27,
     "status": "ok",
     "timestamp": 1680126588100,
     "user": {
      "displayName": "Tyler Jarboe",
      "userId": "08629846309066612484"
     },
     "user_tz": 240
    },
    "id": "xHAdlIvj--W5",
    "outputId": "7e189f64-2ebc-461d-e09c-e3c370197933"
   },
   "outputs": [
    {
     "name": "stdout",
     "output_type": "stream",
     "text": [
      "10860\n",
      "10860\n",
      "1207\n",
      "1207\n"
     ]
    }
   ],
   "source": [
    "print(len(x))\n",
    "print(len(y))\n",
    "print(len(val_x))\n",
    "print(len(val_y))"
   ]
  },
  {
   "cell_type": "code",
   "execution_count": 8,
   "metadata": {
    "executionInfo": {
     "elapsed": 3889,
     "status": "ok",
     "timestamp": 1680126591972,
     "user": {
      "displayName": "Tyler Jarboe",
      "userId": "08629846309066612484"
     },
     "user_tz": 240
    },
    "id": "CFqU6xKH5iXG"
   },
   "outputs": [
    {
     "name": "stdout",
     "output_type": "stream",
     "text": [
      "INFO:tensorflow:Assets written to: EnglishTokenizer/assets\n"
     ]
    }
   ],
   "source": [
    "# create the tokenizer\n",
    "tokenizers = tf.Module()\n",
    "rTokens=[\"[pad]\", \"[unk]\", \"[start]\", \"[end]\"]\n",
    "tokenizers.en = CustomTokenizer(rTokens, 'ENG.txt')\n",
    "model_name = 'EnglishTokenizer'\n",
    "tf.saved_model.save(tokenizers, model_name)"
   ]
  },
  {
   "cell_type": "code",
   "execution_count": 9,
   "metadata": {
    "colab": {
     "base_uri": "https://localhost:8080/"
    },
    "executionInfo": {
     "elapsed": 68,
     "status": "ok",
     "timestamp": 1680126591973,
     "user": {
      "displayName": "Tyler Jarboe",
      "userId": "08629846309066612484"
     },
     "user_tz": 240
    },
    "id": "NHg5v25X8sWd",
    "outputId": "4fa093ce-2064-446b-cbee-4e4a7a159257"
   },
   "outputs": [
    {
     "data": {
      "text/plain": [
       "<tf.Tensor: shape=(), dtype=int32, numpy=3286>"
      ]
     },
     "execution_count": 9,
     "metadata": {},
     "output_type": "execute_result"
    }
   ],
   "source": [
    "tokenizer = tf.saved_model.load(model_name)\n",
    "tokenizer.en.get_vocab_size()"
   ]
  },
  {
   "cell_type": "code",
   "execution_count": 10,
   "metadata": {
    "colab": {
     "base_uri": "https://localhost:8080/"
    },
    "executionInfo": {
     "elapsed": 63,
     "status": "ok",
     "timestamp": 1680126591973,
     "user": {
      "displayName": "Tyler Jarboe",
      "userId": "08629846309066612484"
     },
     "user_tz": 240
    },
    "id": "vIqjODXSIwC8",
    "outputId": "9bf6438d-0b13-46f5-ef79-e8b50fe0a52b"
   },
   "outputs": [
    {
     "data": {
      "text/plain": [
       "b'a woman who is believed to have magic powers . '"
      ]
     },
     "execution_count": 10,
     "metadata": {},
     "output_type": "execute_result"
    }
   ],
   "source": [
    "full_train_y[0]"
   ]
  },
  {
   "cell_type": "code",
   "execution_count": 11,
   "metadata": {
    "colab": {
     "base_uri": "https://localhost:8080/"
    },
    "executionInfo": {
     "elapsed": 55,
     "status": "ok",
     "timestamp": 1680126591974,
     "user": {
      "displayName": "Tyler Jarboe",
      "userId": "08629846309066612484"
     },
     "user_tz": 240
    },
    "id": "_Q4M-vYeVvcA",
    "outputId": "505eed53-aa3b-4516-c4ba-489ddb08ce4a"
   },
   "outputs": [
    {
     "data": {
      "text/plain": [
       "<tf.RaggedTensor [[2, 10, 496, 62, 47, 2068, 41, 86, 2454, 2670, 6, 3]]>"
      ]
     },
     "execution_count": 11,
     "metadata": {},
     "output_type": "execute_result"
    }
   ],
   "source": [
    "enc = tokenizer.en.tokenize([full_train_y[0]])\n",
    "enc"
   ]
  },
  {
   "cell_type": "code",
   "execution_count": 12,
   "metadata": {
    "colab": {
     "base_uri": "https://localhost:8080/"
    },
    "executionInfo": {
     "elapsed": 46,
     "status": "ok",
     "timestamp": 1680126591975,
     "user": {
      "displayName": "Tyler Jarboe",
      "userId": "08629846309066612484"
     },
     "user_tz": 240
    },
    "id": "stQZh9kzB6LY",
    "outputId": "901e5cd6-d38e-4626-a188-8eb6b2463c59"
   },
   "outputs": [
    {
     "data": {
      "text/plain": [
       "<tf.RaggedTensor [[b'[start]', b'a', b'woman', b'who', b'is', b'believed', b'to', b'have',\n",
       "  b'magic', b'powers', b'.', b'[end]']]>"
      ]
     },
     "execution_count": 12,
     "metadata": {},
     "output_type": "execute_result"
    }
   ],
   "source": [
    "tokenizer.en.lookup(enc)"
   ]
  },
  {
   "cell_type": "code",
   "execution_count": 13,
   "metadata": {
    "colab": {
     "base_uri": "https://localhost:8080/"
    },
    "executionInfo": {
     "elapsed": 39,
     "status": "ok",
     "timestamp": 1680126591976,
     "user": {
      "displayName": "Tyler Jarboe",
      "userId": "08629846309066612484"
     },
     "user_tz": 240
    },
    "id": "9rVnfaVQWbSY",
    "outputId": "8a9d685e-53fa-4626-806a-7d47d0e9d95e"
   },
   "outputs": [
    {
     "data": {
      "text/plain": [
       "<tf.Tensor: shape=(1,), dtype=string, numpy=array([b'a woman who is believed to have magic powers .'], dtype=object)>"
      ]
     },
     "execution_count": 13,
     "metadata": {},
     "output_type": "execute_result"
    }
   ],
   "source": [
    "dec = tokenizer.en.detokenize(enc)\n",
    "dec"
   ]
  },
  {
   "cell_type": "code",
   "execution_count": 14,
   "metadata": {
    "colab": {
     "base_uri": "https://localhost:8080/"
    },
    "executionInfo": {
     "elapsed": 34,
     "status": "ok",
     "timestamp": 1680126591976,
     "user": {
      "displayName": "Tyler Jarboe",
      "userId": "08629846309066612484"
     },
     "user_tz": 240
    },
    "id": "aN1D9iU39cwD",
    "outputId": "7a8b9206-0220-4af4-bcf7-5dbc5df172c2"
   },
   "outputs": [
    {
     "data": {
      "text/plain": [
       "<tf.RaggedTensor [[2, 98, 27, 2021, 665, 1029, 3]]>"
      ]
     },
     "execution_count": 14,
     "metadata": {},
     "output_type": "execute_result"
    }
   ],
   "source": [
    "e = tokenizer.en.tokenize([\"some random sentence\"])\n",
    "e"
   ]
  },
  {
   "cell_type": "code",
   "execution_count": 15,
   "metadata": {
    "colab": {
     "base_uri": "https://localhost:8080/"
    },
    "executionInfo": {
     "elapsed": 30,
     "status": "ok",
     "timestamp": 1680126591976,
     "user": {
      "displayName": "Tyler Jarboe",
      "userId": "08629846309066612484"
     },
     "user_tz": 240
    },
    "id": "3oUuegMA9cyv",
    "outputId": "0379ec64-e9be-40fa-aa1a-933b532e7393"
   },
   "outputs": [
    {
     "data": {
      "text/plain": [
       "<tf.RaggedTensor [[b'[start]', b'some', b'r', b'##and', b'##om', b'sentence', b'[end]']]>"
      ]
     },
     "execution_count": 15,
     "metadata": {},
     "output_type": "execute_result"
    }
   ],
   "source": [
    "tokenizer.en.lookup(e)"
   ]
  },
  {
   "cell_type": "code",
   "execution_count": 16,
   "metadata": {
    "colab": {
     "base_uri": "https://localhost:8080/"
    },
    "executionInfo": {
     "elapsed": 27,
     "status": "ok",
     "timestamp": 1680126591977,
     "user": {
      "displayName": "Tyler Jarboe",
      "userId": "08629846309066612484"
     },
     "user_tz": 240
    },
    "id": "WFgiIERj9c1h",
    "outputId": "ff4519f2-64d5-44a3-9430-f973f293065e"
   },
   "outputs": [
    {
     "data": {
      "text/plain": [
       "<tf.Tensor: shape=(1,), dtype=string, numpy=array([b'some random sentence'], dtype=object)>"
      ]
     },
     "execution_count": 16,
     "metadata": {},
     "output_type": "execute_result"
    }
   ],
   "source": [
    "tokenizer.en.detokenize(e)"
   ]
  },
  {
   "cell_type": "code",
   "execution_count": 17,
   "metadata": {
    "colab": {
     "base_uri": "https://localhost:8080/"
    },
    "executionInfo": {
     "elapsed": 24,
     "status": "ok",
     "timestamp": 1680126591977,
     "user": {
      "displayName": "Tyler Jarboe",
      "userId": "08629846309066612484"
     },
     "user_tz": 240
    },
    "id": "R7cwgJnDWDZw",
    "outputId": "4e722673-f76a-41fb-e917-5c969f72ea90"
   },
   "outputs": [
    {
     "data": {
      "text/plain": [
       "<TensorSliceDataset element_spec=(TensorSpec(shape=(), dtype=tf.string, name=None), TensorSpec(shape=(), dtype=tf.string, name=None))>"
      ]
     },
     "execution_count": 17,
     "metadata": {},
     "output_type": "execute_result"
    }
   ],
   "source": [
    "ds = tf.data.Dataset.from_tensor_slices((full_train_x,full_train_y))\n",
    "ds"
   ]
  },
  {
   "cell_type": "code",
   "execution_count": 18,
   "metadata": {
    "colab": {
     "base_uri": "https://localhost:8080/"
    },
    "executionInfo": {
     "elapsed": 23,
     "status": "ok",
     "timestamp": 1680126591978,
     "user": {
      "displayName": "Tyler Jarboe",
      "userId": "08629846309066612484"
     },
     "user_tz": 240
    },
    "id": "zSAbopbKB3Ts",
    "outputId": "3b171238-7dc6-4df1-e354-98ffe67f6128"
   },
   "outputs": [
    {
     "data": {
      "text/plain": [
       "<TensorSliceDataset element_spec=(TensorSpec(shape=(), dtype=tf.string, name=None), TensorSpec(shape=(), dtype=tf.string, name=None))>"
      ]
     },
     "execution_count": 18,
     "metadata": {},
     "output_type": "execute_result"
    }
   ],
   "source": [
    "val_ds = tf.data.Dataset.from_tensor_slices((full_val_x, full_val_y))\n",
    "val_ds"
   ]
  },
  {
   "cell_type": "markdown",
   "metadata": {
    "id": "sIxEajedSNZJ"
   },
   "source": [
    "Testing dataset for each layer"
   ]
  },
  {
   "cell_type": "code",
   "execution_count": 19,
   "metadata": {
    "executionInfo": {
     "elapsed": 22,
     "status": "ok",
     "timestamp": 1680126591980,
     "user": {
      "displayName": "Tyler Jarboe",
      "userId": "08629846309066612484"
     },
     "user_tz": 240
    },
    "id": "tZ6Y-I89HuTN"
   },
   "outputs": [],
   "source": [
    "# Method generate a batch of sentences when the model wants it.\n",
    "MAX_TOKENS=200\n",
    "def prepare_batch(DEF, SIMPDEF):\n",
    "    DEF = tokenizer.en.tokenize(DEF)      # Output is ragged.\n",
    "    DEF = DEF[:, :MAX_TOKENS]    # Trim to MAX_TOKENS.\n",
    "    DEF = DEF.to_tensor()  # Convert to 0-padded dense Tensor\n",
    "\n",
    "    SIMPDEF = tokenizer.en.tokenize(SIMPDEF)\n",
    "    SIMPDEF = SIMPDEF[:, :(MAX_TOKENS+1)]\n",
    "    SIMPDEF_inputs = SIMPDEF[:, :-1].to_tensor()  # Drop the [END] tokens\n",
    "    SIMPDEF_labels = SIMPDEF[:, 1:].to_tensor()   # Drop the [START] tokens\n",
    "\n",
    "    return (DEF, SIMPDEF_inputs), SIMPDEF_labels"
   ]
  },
  {
   "cell_type": "code",
   "execution_count": 20,
   "metadata": {
    "colab": {
     "base_uri": "https://localhost:8080/"
    },
    "executionInfo": {
     "elapsed": 23,
     "status": "ok",
     "timestamp": 1680126591981,
     "user": {
      "displayName": "Tyler Jarboe",
      "userId": "08629846309066612484"
     },
     "user_tz": 240
    },
    "id": "1eByQv-xHzr-",
    "outputId": "98282bb4-a61b-484f-ec30-f651d65af0ef"
   },
   "outputs": [
    {
     "data": {
      "text/plain": [
       "<PrefetchDataset element_spec=((TensorSpec(shape=(None, None), dtype=tf.int64, name=None), TensorSpec(shape=(None, None), dtype=tf.int64, name=None)), TensorSpec(shape=(None, None), dtype=tf.int64, name=None))>"
      ]
     },
     "execution_count": 20,
     "metadata": {},
     "output_type": "execute_result"
    }
   ],
   "source": [
    "BUFFER_SIZE = 20000\n",
    "BATCH_SIZE = 16\n",
    "\n",
    "def make_batches(ds):\n",
    "  return (\n",
    "      ds\n",
    "      .shuffle(BUFFER_SIZE)\n",
    "      .batch(BATCH_SIZE)\n",
    "      .map(prepare_batch, tf.data.AUTOTUNE)\n",
    "      .prefetch(buffer_size=tf.data.AUTOTUNE))\n",
    "  \n",
    "batches = make_batches(ds) # test\n",
    "batches # if it prints it works"
   ]
  },
  {
   "cell_type": "code",
   "execution_count": 21,
   "metadata": {
    "executionInfo": {
     "elapsed": 19,
     "status": "ok",
     "timestamp": 1680126591981,
     "user": {
      "displayName": "Tyler Jarboe",
      "userId": "08629846309066612484"
     },
     "user_tz": 240
    },
    "id": "Q1-ScAy8BJeE"
   },
   "outputs": [],
   "source": [
    "val_batches = make_batches(val_ds)"
   ]
  },
  {
   "cell_type": "code",
   "execution_count": 22,
   "metadata": {
    "colab": {
     "base_uri": "https://localhost:8080/"
    },
    "executionInfo": {
     "elapsed": 901,
     "status": "ok",
     "timestamp": 1680126592863,
     "user": {
      "displayName": "Tyler Jarboe",
      "userId": "08629846309066612484"
     },
     "user_tz": 240
    },
    "id": "Mv0UizXHSQjF",
    "outputId": "ce90b57a-4a77-4ea9-8201-e4e926ec5d4f"
   },
   "outputs": [
    {
     "name": "stdout",
     "output_type": "stream",
     "text": [
      "(16, 28)\n",
      "(16, 41)\n",
      "(16, 41)\n"
     ]
    }
   ],
   "source": [
    "for (DEF, SIMP), SIMP_labels in batches.take(1):\n",
    "  break\n",
    "\n",
    "print(DEF.shape)\n",
    "print(SIMP.shape)\n",
    "print(SIMP_labels.shape)"
   ]
  },
  {
   "cell_type": "markdown",
   "metadata": {
    "id": "GkeqZx0j29dF"
   },
   "source": [
    "Defining Components of Transformer"
   ]
  },
  {
   "cell_type": "markdown",
   "metadata": {
    "id": "dgi1-zTF29dG"
   },
   "source": [
    "Input/Output embedding + Encoding"
   ]
  },
  {
   "cell_type": "code",
   "execution_count": 23,
   "metadata": {
    "executionInfo": {
     "elapsed": 27,
     "status": "ok",
     "timestamp": 1680126592863,
     "user": {
      "displayName": "Tyler Jarboe",
      "userId": "08629846309066612484"
     },
     "user_tz": 240
    },
    "id": "GFo8JjGq29dI"
   },
   "outputs": [],
   "source": [
    "def positional_encoding(length, depth):\n",
    "  depth = depth/2\n",
    "\n",
    "  positions = np.arange(length)[:, np.newaxis]     # (seq, 1)\n",
    "  depths = np.arange(depth)[np.newaxis, :]/depth   # (1, depth)\n",
    "  \n",
    "  angle_rates = 1 / (10000**depths)         # (1, depth)\n",
    "  angle_rads = positions * angle_rates      # (pos, depth)\n",
    "\n",
    "  pos_encoding = np.concatenate(\n",
    "      [np.sin(angle_rads), np.cos(angle_rads)],\n",
    "      axis=-1) \n",
    "\n",
    "  return tf.cast(pos_encoding, dtype=tf.float32)"
   ]
  },
  {
   "cell_type": "code",
   "execution_count": 24,
   "metadata": {
    "executionInfo": {
     "elapsed": 26,
     "status": "ok",
     "timestamp": 1680126592864,
     "user": {
      "displayName": "Tyler Jarboe",
      "userId": "08629846309066612484"
     },
     "user_tz": 240
    },
    "id": "B78Rz7mQ29dI"
   },
   "outputs": [],
   "source": [
    "class PositionalEmbedding(tf.keras.layers.Layer):\n",
    "  def __init__(self, vocab_size, d_model):\n",
    "    super().__init__()\n",
    "    self.d_model = d_model\n",
    "    self.embedding = tf.keras.layers.Embedding(vocab_size, d_model, mask_zero=True) \n",
    "    self.pos_encoding = positional_encoding(length=2048, depth=d_model)\n",
    "\n",
    "  def compute_mask(self, *args, **kwargs):\n",
    "    return self.embedding.compute_mask(*args, **kwargs)\n",
    "\n",
    "  def call(self, x):\n",
    "    length = tf.shape(x)[1]\n",
    "    x = self.embedding(x)\n",
    "    # This factor sets the relative scale of the embedding and positonal_encoding.\n",
    "    x *= tf.math.sqrt(tf.cast(self.d_model, tf.float32))\n",
    "    x = x + self.pos_encoding[tf.newaxis, :length, :]\n",
    "    return x"
   ]
  },
  {
   "cell_type": "code",
   "execution_count": 25,
   "metadata": {
    "colab": {
     "base_uri": "https://localhost:8080/"
    },
    "executionInfo": {
     "elapsed": 25,
     "status": "ok",
     "timestamp": 1680126592865,
     "user": {
      "displayName": "Tyler Jarboe",
      "userId": "08629846309066612484"
     },
     "user_tz": 240
    },
    "id": "H-fYgpbgRx32",
    "outputId": "e5fe6d32-71ea-444e-a5bb-7b1288747197"
   },
   "outputs": [
    {
     "data": {
      "text/plain": [
       "<tf.Tensor: shape=(16, 41), dtype=bool, numpy=\n",
       "array([[ True,  True,  True,  True,  True,  True,  True,  True,  True,\n",
       "         True,  True,  True,  True,  True, False, False, False, False,\n",
       "        False, False, False, False, False, False, False, False, False,\n",
       "        False, False, False, False, False, False, False, False, False,\n",
       "        False, False, False, False, False],\n",
       "       [ True,  True,  True,  True,  True,  True,  True,  True, False,\n",
       "        False, False, False, False, False, False, False, False, False,\n",
       "        False, False, False, False, False, False, False, False, False,\n",
       "        False, False, False, False, False, False, False, False, False,\n",
       "        False, False, False, False, False],\n",
       "       [ True,  True,  True,  True,  True,  True,  True,  True,  True,\n",
       "         True, False, False, False, False, False, False, False, False,\n",
       "        False, False, False, False, False, False, False, False, False,\n",
       "        False, False, False, False, False, False, False, False, False,\n",
       "        False, False, False, False, False],\n",
       "       [ True,  True,  True,  True,  True,  True,  True,  True,  True,\n",
       "         True, False, False, False, False, False, False, False, False,\n",
       "        False, False, False, False, False, False, False, False, False,\n",
       "        False, False, False, False, False, False, False, False, False,\n",
       "        False, False, False, False, False],\n",
       "       [ True,  True,  True,  True,  True,  True,  True,  True,  True,\n",
       "        False, False, False, False, False, False, False, False, False,\n",
       "        False, False, False, False, False, False, False, False, False,\n",
       "        False, False, False, False, False, False, False, False, False,\n",
       "        False, False, False, False, False],\n",
       "       [ True,  True,  True,  True,  True,  True,  True,  True, False,\n",
       "        False, False, False, False, False, False, False, False, False,\n",
       "        False, False, False, False, False, False, False, False, False,\n",
       "        False, False, False, False, False, False, False, False, False,\n",
       "        False, False, False, False, False],\n",
       "       [ True,  True,  True,  True,  True,  True,  True,  True,  True,\n",
       "         True, False, False, False, False, False, False, False, False,\n",
       "        False, False, False, False, False, False, False, False, False,\n",
       "        False, False, False, False, False, False, False, False, False,\n",
       "        False, False, False, False, False],\n",
       "       [ True,  True,  True,  True,  True,  True,  True,  True,  True,\n",
       "         True,  True,  True,  True,  True,  True, False, False, False,\n",
       "        False, False, False, False, False, False, False, False, False,\n",
       "        False, False, False, False, False, False, False, False, False,\n",
       "        False, False, False, False, False],\n",
       "       [ True,  True,  True,  True,  True,  True,  True,  True,  True,\n",
       "         True,  True, False, False, False, False, False, False, False,\n",
       "        False, False, False, False, False, False, False, False, False,\n",
       "        False, False, False, False, False, False, False, False, False,\n",
       "        False, False, False, False, False],\n",
       "       [ True,  True,  True,  True,  True,  True, False, False, False,\n",
       "        False, False, False, False, False, False, False, False, False,\n",
       "        False, False, False, False, False, False, False, False, False,\n",
       "        False, False, False, False, False, False, False, False, False,\n",
       "        False, False, False, False, False],\n",
       "       [ True,  True,  True,  True,  True,  True,  True,  True,  True,\n",
       "         True,  True,  True,  True,  True, False, False, False, False,\n",
       "        False, False, False, False, False, False, False, False, False,\n",
       "        False, False, False, False, False, False, False, False, False,\n",
       "        False, False, False, False, False],\n",
       "       [ True,  True,  True,  True,  True,  True,  True,  True,  True,\n",
       "         True,  True,  True,  True,  True,  True,  True,  True,  True,\n",
       "         True,  True,  True,  True,  True,  True, False, False, False,\n",
       "        False, False, False, False, False, False, False, False, False,\n",
       "        False, False, False, False, False],\n",
       "       [ True,  True,  True,  True,  True,  True,  True,  True,  True,\n",
       "         True,  True,  True,  True,  True,  True,  True,  True,  True,\n",
       "         True,  True,  True,  True,  True,  True,  True,  True,  True,\n",
       "         True,  True,  True,  True,  True,  True,  True,  True,  True,\n",
       "         True,  True,  True,  True,  True],\n",
       "       [ True,  True,  True,  True,  True,  True,  True,  True,  True,\n",
       "        False, False, False, False, False, False, False, False, False,\n",
       "        False, False, False, False, False, False, False, False, False,\n",
       "        False, False, False, False, False, False, False, False, False,\n",
       "        False, False, False, False, False],\n",
       "       [ True,  True,  True,  True,  True,  True,  True,  True,  True,\n",
       "         True,  True, False, False, False, False, False, False, False,\n",
       "        False, False, False, False, False, False, False, False, False,\n",
       "        False, False, False, False, False, False, False, False, False,\n",
       "        False, False, False, False, False],\n",
       "       [ True,  True,  True,  True, False, False, False, False, False,\n",
       "        False, False, False, False, False, False, False, False, False,\n",
       "        False, False, False, False, False, False, False, False, False,\n",
       "        False, False, False, False, False, False, False, False, False,\n",
       "        False, False, False, False, False]])>"
      ]
     },
     "execution_count": 25,
     "metadata": {},
     "output_type": "execute_result"
    }
   ],
   "source": [
    "embed_DEF = PositionalEmbedding(vocab_size=tokenizers.en.get_vocab_size(), d_model=512)\n",
    "embed_SIMP = PositionalEmbedding(vocab_size=tokenizers.en.get_vocab_size(), d_model=512)\n",
    "\n",
    "DEF_emb = embed_DEF(DEF)\n",
    "SIMP_emb = embed_SIMP(SIMP)\n",
    "SIMP_emb._keras_mask"
   ]
  },
  {
   "cell_type": "markdown",
   "metadata": {
    "id": "b_ZX8rDV29dJ"
   },
   "source": [
    "BaseAttention Layer (Multi-Head Attention + add & Norm)"
   ]
  },
  {
   "cell_type": "code",
   "execution_count": 26,
   "metadata": {
    "executionInfo": {
     "elapsed": 19,
     "status": "ok",
     "timestamp": 1680126592866,
     "user": {
      "displayName": "Tyler Jarboe",
      "userId": "08629846309066612484"
     },
     "user_tz": 240
    },
    "id": "kgdBAlwx29dJ"
   },
   "outputs": [],
   "source": [
    "class BaseAttention(tf.keras.layers.Layer):\n",
    "  def __init__(self, **kwargs):\n",
    "    super().__init__()\n",
    "    self.mha = tf.keras.layers.MultiHeadAttention(**kwargs)\n",
    "    self.layernorm = tf.keras.layers.LayerNormalization()\n",
    "    self.add = tf.keras.layers.Add()"
   ]
  },
  {
   "cell_type": "markdown",
   "metadata": {
    "id": "JOIFujHm29dJ"
   },
   "source": [
    "Cross Attention Layer (Base Attention Layer where the encoder meets the decoder)"
   ]
  },
  {
   "cell_type": "code",
   "execution_count": 27,
   "metadata": {
    "executionInfo": {
     "elapsed": 17,
     "status": "ok",
     "timestamp": 1680126592866,
     "user": {
      "displayName": "Tyler Jarboe",
      "userId": "08629846309066612484"
     },
     "user_tz": 240
    },
    "id": "nzE9Bdbw29dJ"
   },
   "outputs": [],
   "source": [
    "class CrossAttention(BaseAttention):\n",
    "  def call(self, x, context):\n",
    "    attn_output, attn_scores = self.mha(\n",
    "        query=x,\n",
    "        key=context,\n",
    "        value=context,\n",
    "        return_attention_scores=True)\n",
    "   \n",
    "    # Cache the attention scores for plotting later.\n",
    "    self.last_attn_scores = attn_scores\n",
    "\n",
    "    x = self.add([x, attn_output])\n",
    "    x = self.layernorm(x)\n",
    "\n",
    "    return x"
   ]
  },
  {
   "cell_type": "code",
   "execution_count": 28,
   "metadata": {
    "colab": {
     "base_uri": "https://localhost:8080/"
    },
    "executionInfo": {
     "elapsed": 974,
     "status": "ok",
     "timestamp": 1680126593825,
     "user": {
      "displayName": "Tyler Jarboe",
      "userId": "08629846309066612484"
     },
     "user_tz": 240
    },
    "id": "fK9XFsLrUXOY",
    "outputId": "b11504ac-219d-44bd-afdf-8c69a563c14c"
   },
   "outputs": [
    {
     "name": "stdout",
     "output_type": "stream",
     "text": [
      "(16, 28, 512)\n",
      "(16, 41, 512)\n",
      "(16, 41, 512)\n"
     ]
    }
   ],
   "source": [
    "sample_ca = CrossAttention(num_heads=2, key_dim=512)\n",
    "\n",
    "print(DEF_emb.shape)\n",
    "print(SIMP_emb.shape)\n",
    "print(sample_ca(SIMP_emb, DEF_emb).shape)"
   ]
  },
  {
   "cell_type": "markdown",
   "metadata": {
    "id": "J-oF9LNg29dJ"
   },
   "source": [
    "Global Self Attention (input attention)"
   ]
  },
  {
   "cell_type": "code",
   "execution_count": 29,
   "metadata": {
    "executionInfo": {
     "elapsed": 44,
     "status": "ok",
     "timestamp": 1680126593826,
     "user": {
      "displayName": "Tyler Jarboe",
      "userId": "08629846309066612484"
     },
     "user_tz": 240
    },
    "id": "wI0MGu4R29dK"
   },
   "outputs": [],
   "source": [
    "class GlobalSelfAttention(BaseAttention):\n",
    "  def call(self, x):\n",
    "    attn_output = self.mha(\n",
    "        query=x,\n",
    "        value=x,\n",
    "        key=x)\n",
    "    x = self.add([x, attn_output])\n",
    "    x = self.layernorm(x)\n",
    "    return x"
   ]
  },
  {
   "cell_type": "code",
   "execution_count": 30,
   "metadata": {
    "colab": {
     "base_uri": "https://localhost:8080/"
    },
    "executionInfo": {
     "elapsed": 43,
     "status": "ok",
     "timestamp": 1680126593826,
     "user": {
      "displayName": "Tyler Jarboe",
      "userId": "08629846309066612484"
     },
     "user_tz": 240
    },
    "id": "68EqZUZLUg9t",
    "outputId": "48d2c9c1-fff1-41d4-bc89-779064fa9950"
   },
   "outputs": [
    {
     "name": "stdout",
     "output_type": "stream",
     "text": [
      "(16, 28, 512)\n",
      "(16, 28, 512)\n"
     ]
    }
   ],
   "source": [
    "sample_gsa = GlobalSelfAttention(num_heads=2, key_dim=512)\n",
    "\n",
    "print(DEF_emb.shape)\n",
    "print(sample_gsa(DEF_emb).shape)"
   ]
  },
  {
   "cell_type": "markdown",
   "metadata": {
    "id": "-l3lEEP429dK"
   },
   "source": [
    "Casual Attention Layer (Output attention)"
   ]
  },
  {
   "cell_type": "code",
   "execution_count": 31,
   "metadata": {
    "executionInfo": {
     "elapsed": 36,
     "status": "ok",
     "timestamp": 1680126593827,
     "user": {
      "displayName": "Tyler Jarboe",
      "userId": "08629846309066612484"
     },
     "user_tz": 240
    },
    "id": "C38ipdEV29dL"
   },
   "outputs": [],
   "source": [
    "class CausalSelfAttention(BaseAttention):\n",
    "  def call(self, x):\n",
    "    attn_output = self.mha(\n",
    "        query=x,\n",
    "        value=x,\n",
    "        key=x,\n",
    "        use_causal_mask = True)\n",
    "    x = self.add([x, attn_output])\n",
    "    x = self.layernorm(x)\n",
    "    return x"
   ]
  },
  {
   "cell_type": "code",
   "execution_count": 32,
   "metadata": {
    "colab": {
     "base_uri": "https://localhost:8080/"
    },
    "executionInfo": {
     "elapsed": 35,
     "status": "ok",
     "timestamp": 1680126593827,
     "user": {
      "displayName": "Tyler Jarboe",
      "userId": "08629846309066612484"
     },
     "user_tz": 240
    },
    "id": "iuorf__RUrng",
    "outputId": "cd9d4cd0-3517-4357-c570-44c277669c96"
   },
   "outputs": [
    {
     "name": "stdout",
     "output_type": "stream",
     "text": [
      "(16, 41, 512)\n",
      "(16, 41, 512)\n"
     ]
    }
   ],
   "source": [
    "sample_csa = CausalSelfAttention(num_heads=2, key_dim=512)\n",
    "\n",
    "print(SIMP_emb.shape)\n",
    "print(sample_csa(SIMP_emb).shape)"
   ]
  },
  {
   "cell_type": "code",
   "execution_count": 33,
   "metadata": {
    "colab": {
     "base_uri": "https://localhost:8080/"
    },
    "executionInfo": {
     "elapsed": 30,
     "status": "ok",
     "timestamp": 1680126593828,
     "user": {
      "displayName": "Tyler Jarboe",
      "userId": "08629846309066612484"
     },
     "user_tz": 240
    },
    "id": "VFdXlcnqUxjd",
    "outputId": "098dc891-5685-4220-8ae6-232e8e8d50b2"
   },
   "outputs": [
    {
     "data": {
      "text/plain": [
       "4.7683716e-07"
      ]
     },
     "execution_count": 33,
     "metadata": {},
     "output_type": "execute_result"
    }
   ],
   "source": [
    "out1 = sample_csa(embed_SIMP(SIMP[:, :3])) \n",
    "out2 = sample_csa(embed_SIMP(SIMP))[:, :3]\n",
    "\n",
    "tf.reduce_max(abs(out1 - out2)).numpy()"
   ]
  },
  {
   "cell_type": "markdown",
   "metadata": {
    "id": "2kmVCej729dM"
   },
   "source": [
    "Feed Forward Layer (2 Dense and an add & Norm)"
   ]
  },
  {
   "cell_type": "code",
   "execution_count": 34,
   "metadata": {
    "executionInfo": {
     "elapsed": 24,
     "status": "ok",
     "timestamp": 1680126593828,
     "user": {
      "displayName": "Tyler Jarboe",
      "userId": "08629846309066612484"
     },
     "user_tz": 240
    },
    "id": "7nCuo91P29dM"
   },
   "outputs": [],
   "source": [
    "class FeedForward(tf.keras.layers.Layer):\n",
    "  def __init__(self, d_model, dff, dropout_rate=0.1):\n",
    "    super().__init__()\n",
    "    self.seq = tf.keras.Sequential([\n",
    "      tf.keras.layers.Dense(dff, activation='relu'),\n",
    "      tf.keras.layers.Dense(d_model),\n",
    "      tf.keras.layers.Dropout(dropout_rate)\n",
    "    ])\n",
    "    self.add = tf.keras.layers.Add()\n",
    "    self.layer_norm = tf.keras.layers.LayerNormalization()\n",
    "\n",
    "  def call(self, x):\n",
    "    x = self.add([x, self.seq(x)])\n",
    "    x = self.layer_norm(x) \n",
    "    return x"
   ]
  },
  {
   "cell_type": "code",
   "execution_count": 35,
   "metadata": {
    "colab": {
     "base_uri": "https://localhost:8080/"
    },
    "executionInfo": {
     "elapsed": 23,
     "status": "ok",
     "timestamp": 1680126593829,
     "user": {
      "displayName": "Tyler Jarboe",
      "userId": "08629846309066612484"
     },
     "user_tz": 240
    },
    "id": "b8PsCF92U51y",
    "outputId": "5620d293-d16b-4549-f52a-d5a1e42bc652"
   },
   "outputs": [
    {
     "name": "stdout",
     "output_type": "stream",
     "text": [
      "(16, 41, 512)\n",
      "(16, 41, 512)\n"
     ]
    }
   ],
   "source": [
    "sample_ffn = FeedForward(512, 2048)\n",
    "\n",
    "print(SIMP_emb.shape)\n",
    "print(sample_ffn(SIMP_emb).shape)"
   ]
  },
  {
   "cell_type": "markdown",
   "metadata": {
    "id": "6twMbGkD29dM"
   },
   "source": [
    "Encoder (Not including the input embeddings)"
   ]
  },
  {
   "cell_type": "code",
   "execution_count": 36,
   "metadata": {
    "executionInfo": {
     "elapsed": 17,
     "status": "ok",
     "timestamp": 1680126593829,
     "user": {
      "displayName": "Tyler Jarboe",
      "userId": "08629846309066612484"
     },
     "user_tz": 240
    },
    "id": "5M6jHqvL29dM"
   },
   "outputs": [],
   "source": [
    "class EncoderLayer(tf.keras.layers.Layer):\n",
    "  def __init__(self,*, d_model, num_heads, dff, dropout_rate=0.1):\n",
    "    super().__init__()\n",
    "\n",
    "    self.self_attention = GlobalSelfAttention(\n",
    "        num_heads=num_heads,\n",
    "        key_dim=d_model,\n",
    "        dropout=dropout_rate)\n",
    "\n",
    "    self.ffn = FeedForward(d_model, dff)\n",
    "\n",
    "  def call(self, x):\n",
    "    x = self.self_attention(x)\n",
    "    x = self.ffn(x)\n",
    "    return x"
   ]
  },
  {
   "cell_type": "code",
   "execution_count": 37,
   "metadata": {
    "colab": {
     "base_uri": "https://localhost:8080/"
    },
    "executionInfo": {
     "elapsed": 17,
     "status": "ok",
     "timestamp": 1680126593830,
     "user": {
      "displayName": "Tyler Jarboe",
      "userId": "08629846309066612484"
     },
     "user_tz": 240
    },
    "id": "vF623CtJVBXD",
    "outputId": "19a24a72-a2c4-41ee-8477-53f116756155"
   },
   "outputs": [
    {
     "name": "stdout",
     "output_type": "stream",
     "text": [
      "(16, 41, 512)\n",
      "(16, 28, 512)\n"
     ]
    }
   ],
   "source": [
    "sample_encoder_layer = EncoderLayer(d_model=512, num_heads=8, dff=2048)\n",
    "\n",
    "print(SIMP_emb.shape)\n",
    "print(sample_encoder_layer(DEF_emb).shape)"
   ]
  },
  {
   "cell_type": "markdown",
   "metadata": {
    "id": "q7dcsQ1e29dN"
   },
   "source": [
    "Full Encoder Including Embeddings"
   ]
  },
  {
   "cell_type": "code",
   "execution_count": 38,
   "metadata": {
    "executionInfo": {
     "elapsed": 12,
     "status": "ok",
     "timestamp": 1680126593830,
     "user": {
      "displayName": "Tyler Jarboe",
      "userId": "08629846309066612484"
     },
     "user_tz": 240
    },
    "id": "J8rMiJ5_29dN"
   },
   "outputs": [],
   "source": [
    "class Encoder(tf.keras.layers.Layer):\n",
    "  def __init__(self, *, num_layers, d_model, num_heads,\n",
    "               dff, vocab_size, dropout_rate=0.1):\n",
    "    super().__init__()\n",
    "\n",
    "    self.d_model = d_model\n",
    "    self.num_layers = num_layers\n",
    "\n",
    "    self.pos_embedding = PositionalEmbedding(\n",
    "        vocab_size=vocab_size, d_model=d_model)\n",
    "\n",
    "    self.enc_layers = [\n",
    "        EncoderLayer(d_model=d_model,\n",
    "                     num_heads=num_heads,\n",
    "                     dff=dff,\n",
    "                     dropout_rate=dropout_rate)\n",
    "        for _ in range(num_layers)]\n",
    "    self.dropout = tf.keras.layers.Dropout(dropout_rate)\n",
    "\n",
    "  def call(self, x):\n",
    "    # `x` is token-IDs shape: (batch, seq_len)\n",
    "    x = self.pos_embedding(x)  # Shape `(batch_size, seq_len, d_model)`.\n",
    "    \n",
    "    # Add dropout.\n",
    "    x = self.dropout(x)\n",
    "\n",
    "    for i in range(self.num_layers):\n",
    "      x = self.enc_layers[i](x)\n",
    "\n",
    "    return x  # Shape `(batch_size, seq_len, d_model)`."
   ]
  },
  {
   "cell_type": "code",
   "execution_count": 39,
   "metadata": {
    "colab": {
     "base_uri": "https://localhost:8080/"
    },
    "executionInfo": {
     "elapsed": 518,
     "status": "ok",
     "timestamp": 1680126594337,
     "user": {
      "displayName": "Tyler Jarboe",
      "userId": "08629846309066612484"
     },
     "user_tz": 240
    },
    "id": "i7FB6VgjVV1q",
    "outputId": "9673bb2a-945c-432f-d4f1-23de95bc0cb0"
   },
   "outputs": [
    {
     "name": "stdout",
     "output_type": "stream",
     "text": [
      "(16, 28)\n",
      "(16, 28, 512)\n"
     ]
    }
   ],
   "source": [
    "# Instantiate the encoder.\n",
    "sample_encoder = Encoder(num_layers=4,\n",
    "                         d_model=512,\n",
    "                         num_heads=8,\n",
    "                         dff=2048,\n",
    "                         vocab_size=8500)\n",
    "\n",
    "sample_encoder_output = sample_encoder(DEF, training=False)\n",
    "\n",
    "# Print the shape.\n",
    "print(DEF.shape)\n",
    "print(sample_encoder_output.shape)  # Shape `(batch_size, input_seq_len, d_model)`."
   ]
  },
  {
   "cell_type": "markdown",
   "metadata": {
    "id": "OvcLlII329dN"
   },
   "source": [
    "Decoder Without Embeddings"
   ]
  },
  {
   "cell_type": "code",
   "execution_count": 40,
   "metadata": {
    "executionInfo": {
     "elapsed": 23,
     "status": "ok",
     "timestamp": 1680126594338,
     "user": {
      "displayName": "Tyler Jarboe",
      "userId": "08629846309066612484"
     },
     "user_tz": 240
    },
    "id": "wdzGagd729dO"
   },
   "outputs": [],
   "source": [
    "class DecoderLayer(tf.keras.layers.Layer):\n",
    "  def __init__(self,\n",
    "               *,\n",
    "               d_model,\n",
    "               num_heads,\n",
    "               dff,\n",
    "               dropout_rate=0.1):\n",
    "    super(DecoderLayer, self).__init__()\n",
    "\n",
    "    self.causal_self_attention = CausalSelfAttention(\n",
    "        num_heads=num_heads,\n",
    "        key_dim=d_model,\n",
    "        dropout=dropout_rate)\n",
    "    \n",
    "    self.cross_attention = CrossAttention(\n",
    "        num_heads=num_heads,\n",
    "        key_dim=d_model,\n",
    "        dropout=dropout_rate)\n",
    "\n",
    "    self.ffn = FeedForward(d_model, dff)\n",
    "\n",
    "  def call(self, x, context):\n",
    "    x = self.causal_self_attention(x=x)\n",
    "    x = self.cross_attention(x=x, context=context)\n",
    "\n",
    "    # Cache the last attention scores for plotting later\n",
    "    self.last_attn_scores = self.cross_attention.last_attn_scores\n",
    "\n",
    "    x = self.ffn(x)  # Shape `(batch_size, seq_len, d_model)`.\n",
    "    return x"
   ]
  },
  {
   "cell_type": "code",
   "execution_count": 41,
   "metadata": {
    "colab": {
     "base_uri": "https://localhost:8080/"
    },
    "executionInfo": {
     "elapsed": 23,
     "status": "ok",
     "timestamp": 1680126594340,
     "user": {
      "displayName": "Tyler Jarboe",
      "userId": "08629846309066612484"
     },
     "user_tz": 240
    },
    "id": "C-0Ig_pJVlMT",
    "outputId": "786ea256-8d48-420e-b9a3-5ef1de5a8b1d"
   },
   "outputs": [
    {
     "name": "stdout",
     "output_type": "stream",
     "text": [
      "(16, 41, 512)\n",
      "(16, 28, 512)\n",
      "(16, 41, 512)\n"
     ]
    }
   ],
   "source": [
    "sample_decoder_layer = DecoderLayer(d_model=512, num_heads=8, dff=2048)\n",
    "\n",
    "sample_decoder_layer_output = sample_decoder_layer(\n",
    "    x=SIMP_emb, context=DEF_emb)\n",
    "\n",
    "print(SIMP_emb.shape)\n",
    "print(DEF_emb.shape)\n",
    "print(sample_decoder_layer_output.shape)  # `(batch_size, seq_len, d_model)`"
   ]
  },
  {
   "cell_type": "markdown",
   "metadata": {
    "id": "01eYtq7-29dO"
   },
   "source": [
    "Decoder With Embeddings"
   ]
  },
  {
   "cell_type": "code",
   "execution_count": 42,
   "metadata": {
    "executionInfo": {
     "elapsed": 18,
     "status": "ok",
     "timestamp": 1680126594341,
     "user": {
      "displayName": "Tyler Jarboe",
      "userId": "08629846309066612484"
     },
     "user_tz": 240
    },
    "id": "AIBvr6U629dO"
   },
   "outputs": [],
   "source": [
    "class Decoder(tf.keras.layers.Layer):\n",
    "  def __init__(self, *, num_layers, d_model, num_heads, dff, vocab_size,\n",
    "               dropout_rate=0.1):\n",
    "    super(Decoder, self).__init__()\n",
    "\n",
    "    self.d_model = d_model\n",
    "    self.num_layers = num_layers\n",
    "\n",
    "    self.pos_embedding = PositionalEmbedding(vocab_size=vocab_size,\n",
    "                                             d_model=d_model)\n",
    "    self.dropout = tf.keras.layers.Dropout(dropout_rate)\n",
    "    self.dec_layers = [\n",
    "        DecoderLayer(d_model=d_model, num_heads=num_heads,\n",
    "                     dff=dff, dropout_rate=dropout_rate)\n",
    "        for _ in range(num_layers)]\n",
    "\n",
    "    self.last_attn_scores = None\n",
    "\n",
    "  def call(self, x, context):\n",
    "    # `x` is token-IDs shape (batch, target_seq_len)\n",
    "    x = self.pos_embedding(x)  # (batch_size, target_seq_len, d_model)\n",
    "\n",
    "    x = self.dropout(x)\n",
    "\n",
    "    for i in range(self.num_layers):\n",
    "      x  = self.dec_layers[i](x, context)\n",
    "\n",
    "    self.last_attn_scores = self.dec_layers[-1].last_attn_scores\n",
    "\n",
    "    # The shape of x is (batch_size, target_seq_len, d_model).\n",
    "    return x"
   ]
  },
  {
   "cell_type": "code",
   "execution_count": 43,
   "metadata": {
    "colab": {
     "base_uri": "https://localhost:8080/"
    },
    "executionInfo": {
     "elapsed": 1111,
     "status": "ok",
     "timestamp": 1680126595436,
     "user": {
      "displayName": "Tyler Jarboe",
      "userId": "08629846309066612484"
     },
     "user_tz": 240
    },
    "id": "uXDoVMnRViDw",
    "outputId": "987b6fc2-1993-4054-8c56-eabe892e18cb"
   },
   "outputs": [
    {
     "name": "stdout",
     "output_type": "stream",
     "text": [
      "(16, 41)\n",
      "(16, 28, 512)\n",
      "(16, 41, 512)\n"
     ]
    }
   ],
   "source": [
    "# Instantiate the decoder.\n",
    "sample_decoder = Decoder(num_layers=4,\n",
    "                         d_model=512,\n",
    "                         num_heads=8,\n",
    "                         dff=2048,\n",
    "                         vocab_size=8000)\n",
    "\n",
    "output = sample_decoder(\n",
    "    x=SIMP,\n",
    "    context=DEF_emb)\n",
    "\n",
    "# Print the shapes.\n",
    "print(SIMP.shape)\n",
    "print(DEF_emb.shape)\n",
    "print(output.shape)"
   ]
  },
  {
   "cell_type": "markdown",
   "metadata": {
    "id": "Ced9ZLC229dP"
   },
   "source": [
    "Full Transformer with all layers combined"
   ]
  },
  {
   "cell_type": "code",
   "execution_count": 44,
   "metadata": {
    "executionInfo": {
     "elapsed": 7,
     "status": "ok",
     "timestamp": 1680126595436,
     "user": {
      "displayName": "Tyler Jarboe",
      "userId": "08629846309066612484"
     },
     "user_tz": 240
    },
    "id": "gH9ImtWh29dP"
   },
   "outputs": [],
   "source": [
    "class Transformer(tf.keras.Model):\n",
    "  def __init__(self, *, num_layers, d_model, num_heads, dff,\n",
    "               input_vocab_size, target_vocab_size, dropout_rate=0.1):\n",
    "    super().__init__()\n",
    "    self.encoder = Encoder(num_layers=num_layers, d_model=d_model,\n",
    "                           num_heads=num_heads, dff=dff,\n",
    "                           vocab_size=input_vocab_size,\n",
    "                           dropout_rate=dropout_rate)\n",
    "\n",
    "    self.decoder = Decoder(num_layers=num_layers, d_model=d_model,\n",
    "                           num_heads=num_heads, dff=dff,\n",
    "                           vocab_size=target_vocab_size,\n",
    "                           dropout_rate=dropout_rate)\n",
    "\n",
    "    self.final_layer = tf.keras.layers.Dense(target_vocab_size)\n",
    "\n",
    "  def call(self, inputs):\n",
    "    # To use a Keras model with `.fit` you must pass all your inputs in the\n",
    "    # first argument.\n",
    "    context, x  = inputs\n",
    "\n",
    "    context = self.encoder(context)  # (batch_size, context_len, d_model)\n",
    "\n",
    "    x = self.decoder(x, context)  # (batch_size, target_len, d_model)\n",
    "\n",
    "    # Final linear layer output.\n",
    "    logits = self.final_layer(x)  # (batch_size, target_len, target_vocab_size)\n",
    "\n",
    "    try:\n",
    "      # Drop the keras mask, so it doesn't scale the losses/metrics.\n",
    "      # b/250038731\n",
    "      del logits._keras_mask\n",
    "    except AttributeError:\n",
    "      pass\n",
    "\n",
    "    # Return the final output and the attention weights.\n",
    "    return logits"
   ]
  },
  {
   "cell_type": "markdown",
   "metadata": {
    "id": "2CPCqJmlWCfC"
   },
   "source": [
    "Setting up the model"
   ]
  },
  {
   "cell_type": "code",
   "execution_count": 45,
   "metadata": {
    "executionInfo": {
     "elapsed": 6,
     "status": "ok",
     "timestamp": 1680126595437,
     "user": {
      "displayName": "Tyler Jarboe",
      "userId": "08629846309066612484"
     },
     "user_tz": 240
    },
    "id": "XgJRCZAF3jkr"
   },
   "outputs": [],
   "source": [
    "# num_layers=6, d_model=512, and dff=2048\n",
    "#Hyper parameters (Tensorflow's website has more information to what parameter is associated with what)\n",
    "num_layers = 6\n",
    "d_model = 128\n",
    "dff = 256\n",
    "num_heads = 4\n",
    "dropout_rate = 0.5\n"
   ]
  },
  {
   "cell_type": "code",
   "execution_count": 46,
   "metadata": {
    "executionInfo": {
     "elapsed": 12,
     "status": "ok",
     "timestamp": 1680126596178,
     "user": {
      "displayName": "Tyler Jarboe",
      "userId": "08629846309066612484"
     },
     "user_tz": 240
    },
    "id": "I0O2D4Wr3ucj"
   },
   "outputs": [],
   "source": [
    "def masked_loss(label, pred):\n",
    "  mask = label != 0\n",
    "  loss_object = tf.keras.losses.SparseCategoricalCrossentropy(\n",
    "    from_logits=True, reduction='none')\n",
    "  loss = loss_object(label, pred)\n",
    "\n",
    "  mask = tf.cast(mask, dtype=loss.dtype)\n",
    "  loss *= mask\n",
    "\n",
    "  loss = tf.reduce_sum(loss)/tf.reduce_sum(mask)\n",
    "  return loss\n",
    "\n",
    "\n",
    "def masked_accuracy(label, pred):\n",
    "  pred = tf.argmax(pred, axis=2)\n",
    "  label = tf.cast(label, pred.dtype)\n",
    "  match = label == pred\n",
    "\n",
    "  mask = label != 0\n",
    "\n",
    "  match = match & mask\n",
    "\n",
    "  match = tf.cast(match, dtype=tf.float32)\n",
    "  mask = tf.cast(mask, dtype=tf.float32)\n",
    "  return tf.reduce_sum(match)/tf.reduce_sum(mask)"
   ]
  },
  {
   "cell_type": "markdown",
   "metadata": {
    "id": "oq2qfRK3WXtE"
   },
   "source": [
    "Creating the optimizer and find the bets learning rate"
   ]
  },
  {
   "cell_type": "code",
   "execution_count": 47,
   "metadata": {
    "executionInfo": {
     "elapsed": 13,
     "status": "ok",
     "timestamp": 1680126596177,
     "user": {
      "displayName": "Tyler Jarboe",
      "userId": "08629846309066612484"
     },
     "user_tz": 240
    },
    "id": "gDafGA1MKUwT"
   },
   "outputs": [],
   "source": [
    "class CustomSchedule(tf.keras.optimizers.schedules.LearningRateSchedule):\n",
    "  def __init__(self, d_model, warmup_steps=4000):\n",
    "    super().__init__()\n",
    "\n",
    "    self.d_model = d_model\n",
    "    self.d_model = tf.cast(self.d_model, tf.float32)\n",
    "\n",
    "    self.warmup_steps = warmup_steps\n",
    "\n",
    "  def __call__(self, step):\n",
    "    step = tf.cast(step, dtype=tf.float32)\n",
    "    arg1 = tf.math.rsqrt(step)\n",
    "    arg2 = step * (self.warmup_steps ** -1.5)\n",
    "\n",
    "    return tf.math.rsqrt(self.d_model) * tf.math.minimum(arg1, arg2)\n",
    "with strategy.scope():\n",
    "    learning_rate = CustomSchedule(d_model)\n",
    "\n",
    "    optimizer = tf.keras.optimizers.Adam(learning_rate, beta_1=0.9, beta_2=0.98,\n",
    "                                     epsilon=1e-9)"
   ]
  },
  {
   "cell_type": "markdown",
   "metadata": {
    "id": "F8KfydVAWbxU"
   },
   "source": [
    "Creating the masked loss (removes any weights that the padding may have)"
   ]
  },
  {
   "cell_type": "markdown",
   "metadata": {
    "id": "w7E-aEw6WsuV"
   },
   "source": [
    "Fit the model"
   ]
  },
  {
   "cell_type": "code",
   "execution_count": 48,
   "metadata": {
    "executionInfo": {
     "elapsed": 5,
     "status": "ok",
     "timestamp": 1680126595437,
     "user": {
      "displayName": "Tyler Jarboe",
      "userId": "08629846309066612484"
     },
     "user_tz": 240
    },
    "id": "tHTCQusj3mBk"
   },
   "outputs": [
    {
     "name": "stderr",
     "output_type": "stream",
     "text": [
      "2023-04-16 15:36:03.889796: W tensorflow/core/grappler/optimizers/data/auto_shard.cc:784] AUTO sharding policy will apply DATA sharding policy as it failed to apply FILE sharding policy because of the following reason: Found an unshardable source dataset: name: \"TensorSliceDataset/_2\"\n",
      "op: \"TensorSliceDataset\"\n",
      "input: \"Placeholder/_0\"\n",
      "input: \"Placeholder/_1\"\n",
      "attr {\n",
      "  key: \"Toutput_types\"\n",
      "  value {\n",
      "    list {\n",
      "      type: DT_STRING\n",
      "      type: DT_STRING\n",
      "    }\n",
      "  }\n",
      "}\n",
      "attr {\n",
      "  key: \"_cardinality\"\n",
      "  value {\n",
      "    i: 10860\n",
      "  }\n",
      "}\n",
      "attr {\n",
      "  key: \"is_files\"\n",
      "  value {\n",
      "    b: false\n",
      "  }\n",
      "}\n",
      "attr {\n",
      "  key: \"metadata\"\n",
      "  value {\n",
      "    s: \"\\n\\024TensorSliceDataset:5\"\n",
      "  }\n",
      "}\n",
      "attr {\n",
      "  key: \"output_shapes\"\n",
      "  value {\n",
      "    list {\n",
      "      shape {\n",
      "      }\n",
      "      shape {\n",
      "      }\n",
      "    }\n",
      "  }\n",
      "}\n",
      "attr {\n",
      "  key: \"replicate_on_split\"\n",
      "  value {\n",
      "    b: false\n",
      "  }\n",
      "}\n",
      "experimental_type {\n",
      "  type_id: TFT_PRODUCT\n",
      "  args {\n",
      "    type_id: TFT_DATASET\n",
      "    args {\n",
      "      type_id: TFT_PRODUCT\n",
      "      args {\n",
      "        type_id: TFT_TENSOR\n",
      "        args {\n",
      "          type_id: TFT_STRING\n",
      "        }\n",
      "      }\n",
      "      args {\n",
      "        type_id: TFT_TENSOR\n",
      "        args {\n",
      "          type_id: TFT_STRING\n",
      "        }\n",
      "      }\n",
      "    }\n",
      "  }\n",
      "}\n",
      "\n"
     ]
    },
    {
     "name": "stdout",
     "output_type": "stream",
     "text": [
      "Epoch 1/200\n",
      "INFO:tensorflow:Collective all_reduce tensors: 254 all_reduces, num_devices = 2, group_size = 2, implementation = CommunicationImplementation.AUTO, num_packs = 1\n",
      "INFO:tensorflow:Collective all_reduce IndexedSlices: 2 all_reduces, num_devices =2, group_size = 2, implementation = CommunicationImplementation.AUTO\n",
      "INFO:tensorflow:Collective all_reduce tensors: 1 all_reduces, num_devices = 2, group_size = 2, implementation = CommunicationImplementation.AUTO, num_packs = 1\n",
      "INFO:tensorflow:Collective all_reduce tensors: 1 all_reduces, num_devices = 2, group_size = 2, implementation = CommunicationImplementation.AUTO, num_packs = 1\n",
      "INFO:tensorflow:Collective all_reduce tensors: 1 all_reduces, num_devices = 2, group_size = 2, implementation = CommunicationImplementation.AUTO, num_packs = 1\n",
      "INFO:tensorflow:Collective all_reduce tensors: 1 all_reduces, num_devices = 2, group_size = 2, implementation = CommunicationImplementation.AUTO, num_packs = 1\n",
      "INFO:tensorflow:Collective all_reduce tensors: 1 all_reduces, num_devices = 2, group_size = 2, implementation = CommunicationImplementation.AUTO, num_packs = 1\n",
      "INFO:tensorflow:Collective all_reduce tensors: 254 all_reduces, num_devices = 2, group_size = 2, implementation = CommunicationImplementation.AUTO, num_packs = 1\n",
      "INFO:tensorflow:Collective all_reduce IndexedSlices: 2 all_reduces, num_devices =2, group_size = 2, implementation = CommunicationImplementation.AUTO\n",
      "INFO:tensorflow:Collective all_reduce tensors: 1 all_reduces, num_devices = 2, group_size = 2, implementation = CommunicationImplementation.AUTO, num_packs = 1\n",
      "INFO:tensorflow:Collective all_reduce tensors: 1 all_reduces, num_devices = 2, group_size = 2, implementation = CommunicationImplementation.AUTO, num_packs = 1\n",
      "INFO:tensorflow:Collective all_reduce tensors: 1 all_reduces, num_devices = 2, group_size = 2, implementation = CommunicationImplementation.AUTO, num_packs = 1\n",
      "INFO:tensorflow:Collective all_reduce tensors: 1 all_reduces, num_devices = 2, group_size = 2, implementation = CommunicationImplementation.AUTO, num_packs = 1\n",
      "679/679 [==============================] - ETA: 0s - loss: 6.4213 - masked_accuracy: 0.1349"
     ]
    },
    {
     "name": "stderr",
     "output_type": "stream",
     "text": [
      "2023-04-16 15:38:39.457592: W tensorflow/core/grappler/optimizers/data/auto_shard.cc:784] AUTO sharding policy will apply DATA sharding policy as it failed to apply FILE sharding policy because of the following reason: Found an unshardable source dataset: name: \"TensorSliceDataset/_2\"\n",
      "op: \"TensorSliceDataset\"\n",
      "input: \"Placeholder/_0\"\n",
      "input: \"Placeholder/_1\"\n",
      "attr {\n",
      "  key: \"Toutput_types\"\n",
      "  value {\n",
      "    list {\n",
      "      type: DT_STRING\n",
      "      type: DT_STRING\n",
      "    }\n",
      "  }\n",
      "}\n",
      "attr {\n",
      "  key: \"_cardinality\"\n",
      "  value {\n",
      "    i: 1207\n",
      "  }\n",
      "}\n",
      "attr {\n",
      "  key: \"is_files\"\n",
      "  value {\n",
      "    b: false\n",
      "  }\n",
      "}\n",
      "attr {\n",
      "  key: \"metadata\"\n",
      "  value {\n",
      "    s: \"\\n\\024TensorSliceDataset:6\"\n",
      "  }\n",
      "}\n",
      "attr {\n",
      "  key: \"output_shapes\"\n",
      "  value {\n",
      "    list {\n",
      "      shape {\n",
      "      }\n",
      "      shape {\n",
      "      }\n",
      "    }\n",
      "  }\n",
      "}\n",
      "attr {\n",
      "  key: \"replicate_on_split\"\n",
      "  value {\n",
      "    b: false\n",
      "  }\n",
      "}\n",
      "experimental_type {\n",
      "  type_id: TFT_PRODUCT\n",
      "  args {\n",
      "    type_id: TFT_DATASET\n",
      "    args {\n",
      "      type_id: TFT_PRODUCT\n",
      "      args {\n",
      "        type_id: TFT_TENSOR\n",
      "        args {\n",
      "          type_id: TFT_STRING\n",
      "        }\n",
      "      }\n",
      "      args {\n",
      "        type_id: TFT_TENSOR\n",
      "        args {\n",
      "          type_id: TFT_STRING\n",
      "        }\n",
      "      }\n",
      "    }\n",
      "  }\n",
      "}\n",
      "\n"
     ]
    },
    {
     "name": "stdout",
     "output_type": "stream",
     "text": [
      "INFO:tensorflow:Collective all_reduce tensors: 1 all_reduces, num_devices = 2, group_size = 2, implementation = CommunicationImplementation.AUTO, num_packs = 1\n",
      "INFO:tensorflow:Collective all_reduce tensors: 1 all_reduces, num_devices = 2, group_size = 2, implementation = CommunicationImplementation.AUTO, num_packs = 1\n",
      "INFO:tensorflow:Collective all_reduce tensors: 1 all_reduces, num_devices = 2, group_size = 2, implementation = CommunicationImplementation.AUTO, num_packs = 1\n",
      "INFO:tensorflow:Collective all_reduce tensors: 1 all_reduces, num_devices = 2, group_size = 2, implementation = CommunicationImplementation.AUTO, num_packs = 1\n",
      "679/679 [==============================] - 163s 158ms/step - loss: 6.4213 - masked_accuracy: 0.1349 - val_loss: 5.4183 - val_masked_accuracy: 0.1921\n",
      "Epoch 2/200\n",
      "679/679 [==============================] - 87s 129ms/step - loss: 5.1427 - masked_accuracy: 0.2098 - val_loss: 4.8537 - val_masked_accuracy: 0.2203\n",
      "Epoch 3/200\n",
      "679/679 [==============================] - 85s 126ms/step - loss: 4.7514 - masked_accuracy: 0.2319 - val_loss: 4.6219 - val_masked_accuracy: 0.2398\n",
      "Epoch 4/200\n",
      "679/679 [==============================] - 85s 125ms/step - loss: 4.5598 - masked_accuracy: 0.2445 - val_loss: 4.4811 - val_masked_accuracy: 0.2445\n",
      "Epoch 5/200\n",
      "679/679 [==============================] - 86s 126ms/step - loss: 4.4600 - masked_accuracy: 0.2499 - val_loss: 4.4204 - val_masked_accuracy: 0.2546\n",
      "Epoch 6/200\n",
      "679/679 [==============================] - 85s 125ms/step - loss: 4.3861 - masked_accuracy: 0.2545 - val_loss: 4.3335 - val_masked_accuracy: 0.2611\n",
      "Epoch 7/200\n",
      "679/679 [==============================] - 85s 125ms/step - loss: 4.2905 - masked_accuracy: 0.2606 - val_loss: 4.2304 - val_masked_accuracy: 0.2706\n",
      "Epoch 8/200\n",
      "679/679 [==============================] - 85s 125ms/step - loss: 4.1772 - masked_accuracy: 0.2689 - val_loss: 4.1822 - val_masked_accuracy: 0.2724\n",
      "Epoch 9/200\n",
      "679/679 [==============================] - 85s 125ms/step - loss: 4.0805 - masked_accuracy: 0.2743 - val_loss: 4.1396 - val_masked_accuracy: 0.2734\n",
      "Epoch 10/200\n",
      "679/679 [==============================] - 84s 124ms/step - loss: 4.0035 - masked_accuracy: 0.2808 - val_loss: 4.1021 - val_masked_accuracy: 0.2807\n",
      "Epoch 11/200\n",
      "679/679 [==============================] - 84s 124ms/step - loss: 3.9284 - masked_accuracy: 0.2856 - val_loss: 4.0368 - val_masked_accuracy: 0.2830\n",
      "Epoch 12/200\n",
      "679/679 [==============================] - 85s 125ms/step - loss: 3.8634 - masked_accuracy: 0.2911 - val_loss: 3.9980 - val_masked_accuracy: 0.2904\n",
      "Epoch 13/200\n",
      "679/679 [==============================] - 84s 124ms/step - loss: 3.8017 - masked_accuracy: 0.2956 - val_loss: 3.9814 - val_masked_accuracy: 0.2912\n",
      "Epoch 14/200\n",
      "679/679 [==============================] - 85s 125ms/step - loss: 3.7443 - masked_accuracy: 0.3012 - val_loss: 3.9506 - val_masked_accuracy: 0.2931\n",
      "Epoch 15/200\n",
      "679/679 [==============================] - 84s 124ms/step - loss: 3.6985 - masked_accuracy: 0.3039 - val_loss: 3.9140 - val_masked_accuracy: 0.2977\n",
      "Epoch 16/200\n",
      "679/679 [==============================] - 85s 125ms/step - loss: 3.6540 - masked_accuracy: 0.3078 - val_loss: 3.8868 - val_masked_accuracy: 0.2997\n",
      "Epoch 17/200\n",
      "679/679 [==============================] - 84s 124ms/step - loss: 3.6047 - masked_accuracy: 0.3109 - val_loss: 3.8822 - val_masked_accuracy: 0.3014\n",
      "Epoch 18/200\n",
      "679/679 [==============================] - 84s 124ms/step - loss: 3.5609 - masked_accuracy: 0.3152 - val_loss: 3.8755 - val_masked_accuracy: 0.3024\n",
      "Epoch 19/200\n",
      "679/679 [==============================] - 85s 124ms/step - loss: 3.5280 - masked_accuracy: 0.3188 - val_loss: 3.8618 - val_masked_accuracy: 0.3058\n",
      "Epoch 20/200\n",
      "679/679 [==============================] - 85s 125ms/step - loss: 3.4947 - masked_accuracy: 0.3208 - val_loss: 3.8494 - val_masked_accuracy: 0.3079\n",
      "Epoch 21/200\n",
      "679/679 [==============================] - 85s 125ms/step - loss: 3.4572 - masked_accuracy: 0.3244 - val_loss: 3.8415 - val_masked_accuracy: 0.3064\n",
      "Epoch 22/200\n",
      "679/679 [==============================] - 84s 124ms/step - loss: 3.4295 - masked_accuracy: 0.3265 - val_loss: 3.8393 - val_masked_accuracy: 0.3097\n",
      "Epoch 23/200\n",
      "679/679 [==============================] - 85s 124ms/step - loss: 3.3935 - masked_accuracy: 0.3307 - val_loss: 3.8268 - val_masked_accuracy: 0.3144\n",
      "Epoch 24/200\n",
      "679/679 [==============================] - 84s 124ms/step - loss: 3.3659 - masked_accuracy: 0.3344 - val_loss: 3.8179 - val_masked_accuracy: 0.3153\n",
      "Epoch 25/200\n",
      "679/679 [==============================] - 84s 124ms/step - loss: 3.3469 - masked_accuracy: 0.3355 - val_loss: 3.8138 - val_masked_accuracy: 0.3042\n",
      "Epoch 26/200\n",
      "679/679 [==============================] - 84s 124ms/step - loss: 3.3187 - masked_accuracy: 0.3385 - val_loss: 3.8010 - val_masked_accuracy: 0.3167\n",
      "Epoch 27/200\n",
      "679/679 [==============================] - 84s 123ms/step - loss: 3.2953 - masked_accuracy: 0.3401 - val_loss: 3.7957 - val_masked_accuracy: 0.3065\n",
      "Epoch 28/200\n",
      "679/679 [==============================] - 84s 124ms/step - loss: 3.2718 - masked_accuracy: 0.3432 - val_loss: 3.8153 - val_masked_accuracy: 0.3124\n",
      "Epoch 29/200\n",
      "679/679 [==============================] - 84s 124ms/step - loss: 3.2504 - masked_accuracy: 0.3438 - val_loss: 3.8137 - val_masked_accuracy: 0.3170\n",
      "Epoch 30/200\n",
      "679/679 [==============================] - 84s 124ms/step - loss: 3.2324 - masked_accuracy: 0.3467 - val_loss: 3.7970 - val_masked_accuracy: 0.3187\n",
      "Epoch 31/200\n",
      "679/679 [==============================] - 83s 123ms/step - loss: 3.2086 - masked_accuracy: 0.3505 - val_loss: 3.8031 - val_masked_accuracy: 0.3186\n",
      "Epoch 32/200\n",
      "679/679 [==============================] - 84s 124ms/step - loss: 3.1929 - masked_accuracy: 0.3504 - val_loss: 3.7977 - val_masked_accuracy: 0.3076\n",
      "Epoch 33/200\n",
      "679/679 [==============================] - 84s 124ms/step - loss: 3.1732 - masked_accuracy: 0.3536 - val_loss: 3.7870 - val_masked_accuracy: 0.3188\n",
      "Epoch 34/200\n",
      "679/679 [==============================] - 84s 124ms/step - loss: 3.1549 - masked_accuracy: 0.3558 - val_loss: 3.7858 - val_masked_accuracy: 0.3257\n",
      "Epoch 35/200\n",
      "679/679 [==============================] - 85s 125ms/step - loss: 3.1368 - masked_accuracy: 0.3580 - val_loss: 3.7964 - val_masked_accuracy: 0.3215\n",
      "Epoch 36/200\n",
      "679/679 [==============================] - 84s 124ms/step - loss: 3.1216 - masked_accuracy: 0.3596 - val_loss: 3.7795 - val_masked_accuracy: 0.3215\n",
      "Epoch 37/200\n",
      "679/679 [==============================] - 84s 123ms/step - loss: 3.1008 - masked_accuracy: 0.3620 - val_loss: 3.7855 - val_masked_accuracy: 0.3245\n",
      "Epoch 38/200\n",
      "679/679 [==============================] - 84s 124ms/step - loss: 3.0893 - masked_accuracy: 0.3629 - val_loss: 3.7798 - val_masked_accuracy: 0.3207\n",
      "Epoch 39/200\n",
      "679/679 [==============================] - 84s 124ms/step - loss: 3.0799 - masked_accuracy: 0.3643 - val_loss: 3.7627 - val_masked_accuracy: 0.3239\n",
      "Epoch 40/200\n",
      "679/679 [==============================] - 84s 124ms/step - loss: 3.0582 - masked_accuracy: 0.3674 - val_loss: 3.7789 - val_masked_accuracy: 0.3247\n",
      "Epoch 41/200\n",
      "679/679 [==============================] - 85s 125ms/step - loss: 3.0484 - masked_accuracy: 0.3678 - val_loss: 3.7745 - val_masked_accuracy: 0.3247\n",
      "Epoch 42/200\n",
      "679/679 [==============================] - 84s 124ms/step - loss: 3.0380 - masked_accuracy: 0.3695 - val_loss: 3.7876 - val_masked_accuracy: 0.3159\n",
      "Epoch 43/200\n",
      "679/679 [==============================] - 84s 124ms/step - loss: 3.0217 - masked_accuracy: 0.3717 - val_loss: 3.7792 - val_masked_accuracy: 0.3278\n",
      "Epoch 44/200\n",
      "679/679 [==============================] - 84s 124ms/step - loss: 3.0074 - masked_accuracy: 0.3725 - val_loss: 3.7820 - val_masked_accuracy: 0.3258\n",
      "Epoch 45/200\n",
      "679/679 [==============================] - 84s 124ms/step - loss: 2.9963 - masked_accuracy: 0.3751 - val_loss: 3.7835 - val_masked_accuracy: 0.3264\n",
      "Epoch 46/200\n",
      "679/679 [==============================] - 84s 124ms/step - loss: 2.9844 - masked_accuracy: 0.3757 - val_loss: 3.7678 - val_masked_accuracy: 0.3289\n",
      "Epoch 47/200\n",
      "679/679 [==============================] - 84s 124ms/step - loss: 2.9688 - masked_accuracy: 0.3790 - val_loss: 3.7810 - val_masked_accuracy: 0.3309\n",
      "Epoch 48/200\n"
     ]
    },
    {
     "name": "stdout",
     "output_type": "stream",
     "text": [
      "679/679 [==============================] - 85s 125ms/step - loss: 2.9583 - masked_accuracy: 0.3799 - val_loss: 3.7516 - val_masked_accuracy: 0.3305\n",
      "Epoch 49/200\n",
      "679/679 [==============================] - 85s 125ms/step - loss: 2.9452 - masked_accuracy: 0.3811 - val_loss: 3.7738 - val_masked_accuracy: 0.3299\n",
      "Epoch 50/200\n",
      "679/679 [==============================] - 85s 125ms/step - loss: 2.9379 - masked_accuracy: 0.3820 - val_loss: 3.7829 - val_masked_accuracy: 0.3287\n",
      "Epoch 51/200\n",
      "679/679 [==============================] - 83s 123ms/step - loss: 2.9289 - masked_accuracy: 0.3841 - val_loss: 3.7789 - val_masked_accuracy: 0.3302\n",
      "Epoch 52/200\n",
      "679/679 [==============================] - 79s 116ms/step - loss: 2.9152 - masked_accuracy: 0.3844 - val_loss: 3.7598 - val_masked_accuracy: 0.3331\n",
      "Epoch 53/200\n",
      "679/679 [==============================] - 79s 116ms/step - loss: 2.9079 - masked_accuracy: 0.3859 - val_loss: 3.7931 - val_masked_accuracy: 0.3319\n",
      "Epoch 54/200\n",
      "679/679 [==============================] - 79s 116ms/step - loss: 2.8987 - masked_accuracy: 0.3881 - val_loss: 3.7795 - val_masked_accuracy: 0.3290\n",
      "Epoch 55/200\n",
      "679/679 [==============================] - 80s 118ms/step - loss: 2.8885 - masked_accuracy: 0.3889 - val_loss: 3.7897 - val_masked_accuracy: 0.3295\n",
      "Epoch 56/200\n",
      "679/679 [==============================] - 85s 125ms/step - loss: 2.8755 - masked_accuracy: 0.3896 - val_loss: 3.7708 - val_masked_accuracy: 0.3315\n",
      "Epoch 57/200\n",
      "679/679 [==============================] - 85s 125ms/step - loss: 2.8660 - masked_accuracy: 0.3909 - val_loss: 3.7909 - val_masked_accuracy: 0.3224\n",
      "Epoch 58/200\n",
      "679/679 [==============================] - 85s 125ms/step - loss: 2.8626 - masked_accuracy: 0.3925 - val_loss: 3.7720 - val_masked_accuracy: 0.3333\n",
      "Epoch 59/200\n",
      "679/679 [==============================] - 84s 124ms/step - loss: 2.8476 - masked_accuracy: 0.3932 - val_loss: 3.7776 - val_masked_accuracy: 0.3314\n",
      "Epoch 60/200\n",
      "679/679 [==============================] - 84s 124ms/step - loss: 2.8414 - masked_accuracy: 0.3944 - val_loss: 3.8013 - val_masked_accuracy: 0.3301\n",
      "Epoch 61/200\n",
      "679/679 [==============================] - 84s 124ms/step - loss: 2.8346 - masked_accuracy: 0.3968 - val_loss: 3.7924 - val_masked_accuracy: 0.3367\n",
      "Epoch 62/200\n",
      "679/679 [==============================] - 85s 125ms/step - loss: 2.8267 - masked_accuracy: 0.3965 - val_loss: 3.7833 - val_masked_accuracy: 0.3323\n",
      "Epoch 63/200\n",
      "679/679 [==============================] - 84s 124ms/step - loss: 2.8165 - masked_accuracy: 0.3987 - val_loss: 3.7737 - val_masked_accuracy: 0.3371\n",
      "Epoch 64/200\n",
      "679/679 [==============================] - 84s 123ms/step - loss: 2.8111 - masked_accuracy: 0.3985 - val_loss: 3.7698 - val_masked_accuracy: 0.3308\n",
      "Epoch 65/200\n",
      "679/679 [==============================] - 84s 124ms/step - loss: 2.8057 - masked_accuracy: 0.3995 - val_loss: 3.7890 - val_masked_accuracy: 0.3228\n",
      "Epoch 66/200\n",
      "679/679 [==============================] - 85s 125ms/step - loss: 2.7948 - masked_accuracy: 0.4008 - val_loss: 3.7923 - val_masked_accuracy: 0.3359\n",
      "Epoch 67/200\n",
      "679/679 [==============================] - 84s 124ms/step - loss: 2.7908 - masked_accuracy: 0.4017 - val_loss: 3.7797 - val_masked_accuracy: 0.3340\n",
      "Epoch 68/200\n",
      "679/679 [==============================] - 85s 125ms/step - loss: 2.7775 - masked_accuracy: 0.4028 - val_loss: 3.7953 - val_masked_accuracy: 0.3325\n",
      "Epoch 69/200\n",
      "679/679 [==============================] - 84s 124ms/step - loss: 2.7717 - masked_accuracy: 0.4029 - val_loss: 3.7893 - val_masked_accuracy: 0.3337\n",
      "Epoch 70/200\n",
      "679/679 [==============================] - 85s 125ms/step - loss: 2.7681 - masked_accuracy: 0.4060 - val_loss: 3.7958 - val_masked_accuracy: 0.3307\n",
      "Epoch 71/200\n",
      "679/679 [==============================] - 84s 124ms/step - loss: 2.7568 - masked_accuracy: 0.4071 - val_loss: 3.7828 - val_masked_accuracy: 0.3333\n",
      "Epoch 72/200\n",
      "679/679 [==============================] - 84s 124ms/step - loss: 2.7468 - masked_accuracy: 0.4085 - val_loss: 3.7930 - val_masked_accuracy: 0.3362\n",
      "Epoch 73/200\n",
      "679/679 [==============================] - 84s 124ms/step - loss: 2.7468 - masked_accuracy: 0.4072 - val_loss: 3.7822 - val_masked_accuracy: 0.3387\n",
      "Epoch 74/200\n",
      "679/679 [==============================] - 84s 124ms/step - loss: 2.7381 - masked_accuracy: 0.4095 - val_loss: 3.7955 - val_masked_accuracy: 0.3332\n",
      "Epoch 75/200\n",
      "679/679 [==============================] - 84s 123ms/step - loss: 2.7329 - masked_accuracy: 0.4085 - val_loss: 3.7991 - val_masked_accuracy: 0.3250\n",
      "Epoch 76/200\n",
      "679/679 [==============================] - 84s 124ms/step - loss: 2.7205 - masked_accuracy: 0.4122 - val_loss: 3.7980 - val_masked_accuracy: 0.3332\n",
      "Epoch 77/200\n",
      "679/679 [==============================] - 84s 124ms/step - loss: 2.7171 - masked_accuracy: 0.4119 - val_loss: 3.7883 - val_masked_accuracy: 0.3390\n",
      "Epoch 78/200\n",
      "679/679 [==============================] - 83s 123ms/step - loss: 2.7084 - masked_accuracy: 0.4140 - val_loss: 3.7828 - val_masked_accuracy: 0.3399\n",
      "Epoch 79/200\n",
      "679/679 [==============================] - 84s 123ms/step - loss: 2.7058 - masked_accuracy: 0.4131 - val_loss: 3.7945 - val_masked_accuracy: 0.3251\n",
      "Epoch 80/200\n",
      "679/679 [==============================] - 84s 124ms/step - loss: 2.7029 - masked_accuracy: 0.4126 - val_loss: 3.7843 - val_masked_accuracy: 0.3399\n",
      "Epoch 81/200\n",
      "679/679 [==============================] - 84s 123ms/step - loss: 2.6961 - masked_accuracy: 0.4152 - val_loss: 3.8115 - val_masked_accuracy: 0.3361\n",
      "Epoch 82/200\n",
      "679/679 [==============================] - 84s 124ms/step - loss: 2.6872 - masked_accuracy: 0.4168 - val_loss: 3.8071 - val_masked_accuracy: 0.3348\n",
      "Epoch 83/200\n",
      "679/679 [==============================] - 84s 123ms/step - loss: 2.6857 - masked_accuracy: 0.4176 - val_loss: 3.8104 - val_masked_accuracy: 0.3245\n",
      "Epoch 84/200\n",
      "679/679 [==============================] - 84s 124ms/step - loss: 2.6802 - masked_accuracy: 0.4174 - val_loss: 3.8091 - val_masked_accuracy: 0.3353\n",
      "Epoch 85/200\n",
      "679/679 [==============================] - 84s 124ms/step - loss: 2.6705 - masked_accuracy: 0.4186 - val_loss: 3.7901 - val_masked_accuracy: 0.3259\n",
      "Epoch 86/200\n",
      "679/679 [==============================] - 84s 124ms/step - loss: 2.6668 - masked_accuracy: 0.4180 - val_loss: 3.7807 - val_masked_accuracy: 0.3366\n",
      "Epoch 87/200\n",
      "679/679 [==============================] - 84s 124ms/step - loss: 2.6588 - masked_accuracy: 0.4207 - val_loss: 3.7963 - val_masked_accuracy: 0.3393\n",
      "Epoch 88/200\n",
      "679/679 [==============================] - 84s 124ms/step - loss: 2.6571 - masked_accuracy: 0.4204 - val_loss: 3.7941 - val_masked_accuracy: 0.3373\n",
      "Epoch 89/200\n",
      "679/679 [==============================] - 84s 123ms/step - loss: 2.6551 - masked_accuracy: 0.4209 - val_loss: 3.8114 - val_masked_accuracy: 0.3351\n",
      "Epoch 90/200\n",
      "679/679 [==============================] - 79s 116ms/step - loss: 2.6407 - masked_accuracy: 0.4221 - val_loss: 3.8155 - val_masked_accuracy: 0.3373\n",
      "Epoch 91/200\n",
      "679/679 [==============================] - 78s 115ms/step - loss: 2.6398 - masked_accuracy: 0.4234 - val_loss: 3.8165 - val_masked_accuracy: 0.3274\n",
      "Epoch 92/200\n",
      "679/679 [==============================] - 78s 115ms/step - loss: 2.6387 - masked_accuracy: 0.4223 - val_loss: 3.8043 - val_masked_accuracy: 0.3390\n",
      "Epoch 93/200\n",
      "679/679 [==============================] - 78s 115ms/step - loss: 2.6335 - masked_accuracy: 0.4239 - val_loss: 3.7898 - val_masked_accuracy: 0.3303\n",
      "Epoch 94/200\n",
      "679/679 [==============================] - 81s 120ms/step - loss: 2.6259 - masked_accuracy: 0.4261 - val_loss: 3.7944 - val_masked_accuracy: 0.3380\n",
      "Epoch 95/200\n",
      "679/679 [==============================] - 84s 124ms/step - loss: 2.6206 - masked_accuracy: 0.4262 - val_loss: 3.8065 - val_masked_accuracy: 0.3380\n",
      "Epoch 96/200\n",
      "679/679 [==============================] - 84s 123ms/step - loss: 2.6158 - masked_accuracy: 0.4272 - val_loss: 3.8249 - val_masked_accuracy: 0.3251\n",
      "Epoch 97/200\n",
      "679/679 [==============================] - 78s 115ms/step - loss: 2.6150 - masked_accuracy: 0.4272 - val_loss: 3.7999 - val_masked_accuracy: 0.3406\n",
      "Epoch 98/200\n",
      "679/679 [==============================] - 78s 115ms/step - loss: 2.6052 - masked_accuracy: 0.4280 - val_loss: 3.8140 - val_masked_accuracy: 0.3409\n"
     ]
    },
    {
     "name": "stdout",
     "output_type": "stream",
     "text": [
      "Epoch 99/200\n",
      "679/679 [==============================] - 78s 115ms/step - loss: 2.6035 - masked_accuracy: 0.4287 - val_loss: 3.7869 - val_masked_accuracy: 0.3404\n",
      "Epoch 100/200\n",
      "679/679 [==============================] - 79s 116ms/step - loss: 2.5960 - masked_accuracy: 0.4305 - val_loss: 3.8048 - val_masked_accuracy: 0.3412\n",
      "Epoch 101/200\n",
      "679/679 [==============================] - 81s 119ms/step - loss: 2.5925 - masked_accuracy: 0.4311 - val_loss: 3.8094 - val_masked_accuracy: 0.3378\n",
      "Epoch 102/200\n",
      "679/679 [==============================] - 80s 118ms/step - loss: 2.5940 - masked_accuracy: 0.4303 - val_loss: 3.7996 - val_masked_accuracy: 0.3312\n",
      "Epoch 103/200\n",
      "679/679 [==============================] - 80s 118ms/step - loss: 2.5843 - masked_accuracy: 0.4326 - val_loss: 3.7960 - val_masked_accuracy: 0.3400\n",
      "Epoch 104/200\n",
      "679/679 [==============================] - 80s 118ms/step - loss: 2.5798 - masked_accuracy: 0.4317 - val_loss: 3.7962 - val_masked_accuracy: 0.3427\n",
      "Epoch 105/200\n",
      "679/679 [==============================] - 80s 118ms/step - loss: 2.5736 - masked_accuracy: 0.4322 - val_loss: 3.8270 - val_masked_accuracy: 0.3395\n",
      "Epoch 106/200\n",
      "679/679 [==============================] - 80s 117ms/step - loss: 2.5684 - masked_accuracy: 0.4340 - val_loss: 3.8052 - val_masked_accuracy: 0.3320\n",
      "Epoch 107/200\n",
      "679/679 [==============================] - 80s 117ms/step - loss: 2.5657 - masked_accuracy: 0.4339 - val_loss: 3.8122 - val_masked_accuracy: 0.3344\n",
      "Epoch 108/200\n",
      "679/679 [==============================] - 85s 125ms/step - loss: 2.5603 - masked_accuracy: 0.4362 - val_loss: 3.8089 - val_masked_accuracy: 0.3428\n",
      "Epoch 109/200\n",
      "679/679 [==============================] - 79s 117ms/step - loss: 2.5563 - masked_accuracy: 0.4374 - val_loss: 3.8385 - val_masked_accuracy: 0.3391\n",
      "Epoch 110/200\n",
      "679/679 [==============================] - 80s 117ms/step - loss: 2.5541 - masked_accuracy: 0.4353 - val_loss: 3.8036 - val_masked_accuracy: 0.3406\n",
      "Epoch 111/200\n",
      "679/679 [==============================] - 80s 117ms/step - loss: 2.5505 - masked_accuracy: 0.4348 - val_loss: 3.8230 - val_masked_accuracy: 0.3299\n",
      "Epoch 112/200\n",
      "679/679 [==============================] - 79s 117ms/step - loss: 2.5423 - masked_accuracy: 0.4383 - val_loss: 3.8232 - val_masked_accuracy: 0.3431\n",
      "Epoch 113/200\n",
      "679/679 [==============================] - 83s 122ms/step - loss: 2.5449 - masked_accuracy: 0.4367 - val_loss: 3.8232 - val_masked_accuracy: 0.3418\n",
      "Epoch 114/200\n",
      "679/679 [==============================] - 85s 125ms/step - loss: 2.5374 - masked_accuracy: 0.4393 - val_loss: 3.8284 - val_masked_accuracy: 0.3437\n",
      "Epoch 115/200\n",
      "679/679 [==============================] - 85s 125ms/step - loss: 2.5369 - masked_accuracy: 0.4387 - val_loss: 3.8300 - val_masked_accuracy: 0.3412\n",
      "Epoch 116/200\n",
      "679/679 [==============================] - 85s 126ms/step - loss: 2.5263 - masked_accuracy: 0.4402 - val_loss: 3.8208 - val_masked_accuracy: 0.3314\n",
      "Epoch 117/200\n",
      "679/679 [==============================] - 85s 125ms/step - loss: 2.5321 - masked_accuracy: 0.4398 - val_loss: 3.8314 - val_masked_accuracy: 0.3404\n",
      "Epoch 118/200\n",
      "679/679 [==============================] - 84s 124ms/step - loss: 2.5268 - masked_accuracy: 0.4396 - val_loss: 3.8386 - val_masked_accuracy: 0.3391\n",
      "Epoch 119/200\n",
      "679/679 [==============================] - 85s 125ms/step - loss: 2.5212 - masked_accuracy: 0.4404 - val_loss: 3.8143 - val_masked_accuracy: 0.3325\n",
      "Epoch 120/200\n",
      "679/679 [==============================] - 84s 124ms/step - loss: 2.5152 - masked_accuracy: 0.4428 - val_loss: 3.8579 - val_masked_accuracy: 0.3271\n",
      "Epoch 121/200\n",
      "679/679 [==============================] - 85s 125ms/step - loss: 2.5161 - masked_accuracy: 0.4415 - val_loss: 3.8412 - val_masked_accuracy: 0.3299\n",
      "Epoch 122/200\n",
      "679/679 [==============================] - 85s 125ms/step - loss: 2.5069 - masked_accuracy: 0.4424 - val_loss: 3.8340 - val_masked_accuracy: 0.3377\n",
      "Epoch 123/200\n",
      "679/679 [==============================] - 84s 124ms/step - loss: 2.4996 - masked_accuracy: 0.4451 - val_loss: 3.8486 - val_masked_accuracy: 0.3406\n",
      "Epoch 124/200\n",
      "679/679 [==============================] - 84s 124ms/step - loss: 2.5002 - masked_accuracy: 0.4460 - val_loss: 3.8448 - val_masked_accuracy: 0.3416\n",
      "Epoch 125/200\n",
      "679/679 [==============================] - 85s 125ms/step - loss: 2.4973 - masked_accuracy: 0.4464 - val_loss: 3.8476 - val_masked_accuracy: 0.3433\n",
      "Epoch 126/200\n",
      "679/679 [==============================] - 85s 125ms/step - loss: 2.4912 - masked_accuracy: 0.4467 - val_loss: 3.8422 - val_masked_accuracy: 0.3429\n",
      "Epoch 127/200\n",
      "679/679 [==============================] - 85s 124ms/step - loss: 2.4875 - masked_accuracy: 0.4448 - val_loss: 3.8333 - val_masked_accuracy: 0.3421\n",
      "Epoch 128/200\n",
      "679/679 [==============================] - 84s 124ms/step - loss: 2.4864 - masked_accuracy: 0.4460 - val_loss: 3.8419 - val_masked_accuracy: 0.3413\n",
      "Epoch 129/200\n",
      "679/679 [==============================] - 85s 125ms/step - loss: 2.4802 - masked_accuracy: 0.4487 - val_loss: 3.8223 - val_masked_accuracy: 0.3393\n",
      "Epoch 130/200\n",
      "679/679 [==============================] - 85s 124ms/step - loss: 2.4781 - masked_accuracy: 0.4488 - val_loss: 3.8237 - val_masked_accuracy: 0.3448\n",
      "Epoch 131/200\n",
      "679/679 [==============================] - 84s 124ms/step - loss: 2.4749 - masked_accuracy: 0.4484 - val_loss: 3.8335 - val_masked_accuracy: 0.3308\n",
      "Epoch 132/200\n",
      "679/679 [==============================] - 84s 124ms/step - loss: 2.4742 - masked_accuracy: 0.4485 - val_loss: 3.8449 - val_masked_accuracy: 0.3434\n",
      "Epoch 133/200\n",
      "679/679 [==============================] - 84s 124ms/step - loss: 2.4703 - masked_accuracy: 0.4502 - val_loss: 3.8439 - val_masked_accuracy: 0.3447\n",
      "Epoch 134/200\n",
      "679/679 [==============================] - 84s 124ms/step - loss: 2.4715 - masked_accuracy: 0.4499 - val_loss: 3.8335 - val_masked_accuracy: 0.3454\n",
      "Epoch 135/200\n",
      "679/679 [==============================] - 84s 124ms/step - loss: 2.4646 - masked_accuracy: 0.4496 - val_loss: 3.8543 - val_masked_accuracy: 0.3438\n",
      "Epoch 136/200\n",
      "679/679 [==============================] - 84s 124ms/step - loss: 2.4594 - masked_accuracy: 0.4501 - val_loss: 3.8508 - val_masked_accuracy: 0.3429\n",
      "Epoch 137/200\n",
      "679/679 [==============================] - 84s 124ms/step - loss: 2.4542 - masked_accuracy: 0.4531 - val_loss: 3.8383 - val_masked_accuracy: 0.3456\n",
      "Epoch 138/200\n",
      "679/679 [==============================] - 84s 124ms/step - loss: 2.4525 - masked_accuracy: 0.4517 - val_loss: 3.8604 - val_masked_accuracy: 0.3446\n",
      "Epoch 139/200\n",
      "679/679 [==============================] - 84s 124ms/step - loss: 2.4482 - masked_accuracy: 0.4532 - val_loss: 3.8507 - val_masked_accuracy: 0.3434\n",
      "Epoch 140/200\n",
      "679/679 [==============================] - 84s 124ms/step - loss: 2.4478 - masked_accuracy: 0.4525 - val_loss: 3.8507 - val_masked_accuracy: 0.3476\n",
      "Epoch 141/200\n",
      "679/679 [==============================] - 85s 125ms/step - loss: 2.4405 - masked_accuracy: 0.4539 - val_loss: 3.8441 - val_masked_accuracy: 0.3441\n",
      "Epoch 142/200\n",
      "679/679 [==============================] - 85s 125ms/step - loss: 2.4360 - masked_accuracy: 0.4559 - val_loss: 3.8653 - val_masked_accuracy: 0.3429\n",
      "Epoch 143/200\n",
      "679/679 [==============================] - 84s 124ms/step - loss: 2.4384 - masked_accuracy: 0.4539 - val_loss: 3.8471 - val_masked_accuracy: 0.3462\n",
      "Epoch 144/200\n",
      "679/679 [==============================] - 84s 124ms/step - loss: 2.4293 - masked_accuracy: 0.4550 - val_loss: 3.8643 - val_masked_accuracy: 0.3435\n",
      "Epoch 145/200\n",
      "679/679 [==============================] - 84s 124ms/step - loss: 2.4347 - masked_accuracy: 0.4541 - val_loss: 3.8612 - val_masked_accuracy: 0.3318\n",
      "Epoch 146/200\n",
      "679/679 [==============================] - 84s 123ms/step - loss: 2.4311 - masked_accuracy: 0.4549 - val_loss: 3.8466 - val_masked_accuracy: 0.3447\n",
      "Epoch 147/200\n",
      "679/679 [==============================] - 85s 125ms/step - loss: 2.4271 - masked_accuracy: 0.4571 - val_loss: 3.8673 - val_masked_accuracy: 0.3423\n",
      "Epoch 148/200\n",
      "679/679 [==============================] - 84s 124ms/step - loss: 2.4237 - masked_accuracy: 0.4562 - val_loss: 3.8415 - val_masked_accuracy: 0.3453\n",
      "Epoch 149/200\n"
     ]
    },
    {
     "name": "stdout",
     "output_type": "stream",
     "text": [
      "679/679 [==============================] - 85s 125ms/step - loss: 2.4198 - masked_accuracy: 0.4580 - val_loss: 3.8875 - val_masked_accuracy: 0.3323\n",
      "Epoch 150/200\n",
      "679/679 [==============================] - 84s 124ms/step - loss: 2.4169 - masked_accuracy: 0.4585 - val_loss: 3.8468 - val_masked_accuracy: 0.3476\n",
      "Epoch 151/200\n",
      "679/679 [==============================] - 84s 124ms/step - loss: 2.4113 - masked_accuracy: 0.4599 - val_loss: 3.8595 - val_masked_accuracy: 0.3417\n",
      "Epoch 152/200\n",
      "679/679 [==============================] - 84s 124ms/step - loss: 2.4093 - masked_accuracy: 0.4584 - val_loss: 3.8505 - val_masked_accuracy: 0.3461\n",
      "Epoch 153/200\n",
      "679/679 [==============================] - 84s 124ms/step - loss: 2.4088 - masked_accuracy: 0.4583 - val_loss: 3.8523 - val_masked_accuracy: 0.3430\n",
      "Epoch 154/200\n",
      "679/679 [==============================] - 84s 123ms/step - loss: 2.4043 - masked_accuracy: 0.4607 - val_loss: 3.8457 - val_masked_accuracy: 0.3441\n",
      "Epoch 155/200\n",
      "679/679 [==============================] - 84s 124ms/step - loss: 2.4005 - masked_accuracy: 0.4609 - val_loss: 3.8444 - val_masked_accuracy: 0.3452\n",
      "Epoch 156/200\n",
      "679/679 [==============================] - 84s 124ms/step - loss: 2.4023 - masked_accuracy: 0.4605 - val_loss: 3.8647 - val_masked_accuracy: 0.3334\n",
      "Epoch 157/200\n",
      "679/679 [==============================] - 84s 124ms/step - loss: 2.3955 - masked_accuracy: 0.4613 - val_loss: 3.8682 - val_masked_accuracy: 0.3439\n",
      "Epoch 158/200\n",
      "679/679 [==============================] - 84s 124ms/step - loss: 2.3917 - masked_accuracy: 0.4619 - val_loss: 3.8533 - val_masked_accuracy: 0.3434\n",
      "Epoch 159/200\n",
      "679/679 [==============================] - 84s 124ms/step - loss: 2.3903 - masked_accuracy: 0.4624 - val_loss: 3.8560 - val_masked_accuracy: 0.3441\n",
      "Epoch 160/200\n",
      "679/679 [==============================] - 84s 124ms/step - loss: 2.3872 - masked_accuracy: 0.4610 - val_loss: 3.8852 - val_masked_accuracy: 0.3445\n",
      "Epoch 161/200\n",
      "679/679 [==============================] - 85s 125ms/step - loss: 2.3836 - masked_accuracy: 0.4623 - val_loss: 3.8649 - val_masked_accuracy: 0.3324\n",
      "Epoch 162/200\n",
      "679/679 [==============================] - 86s 127ms/step - loss: 2.3783 - masked_accuracy: 0.4626 - val_loss: 3.8566 - val_masked_accuracy: 0.3358\n",
      "Epoch 163/200\n",
      "679/679 [==============================] - 86s 126ms/step - loss: 2.3784 - masked_accuracy: 0.4636 - val_loss: 3.8569 - val_masked_accuracy: 0.3363\n",
      "Epoch 164/200\n",
      "679/679 [==============================] - 86s 126ms/step - loss: 2.3763 - masked_accuracy: 0.4652 - val_loss: 3.8700 - val_masked_accuracy: 0.3443\n",
      "Epoch 165/200\n",
      "679/679 [==============================] - 86s 127ms/step - loss: 2.3752 - masked_accuracy: 0.4653 - val_loss: 3.8737 - val_masked_accuracy: 0.3449\n",
      "Epoch 166/200\n",
      "679/679 [==============================] - 86s 126ms/step - loss: 2.3706 - masked_accuracy: 0.4661 - val_loss: 3.8591 - val_masked_accuracy: 0.3354\n",
      "Epoch 167/200\n",
      "679/679 [==============================] - 86s 126ms/step - loss: 2.3665 - masked_accuracy: 0.4664 - val_loss: 3.8728 - val_masked_accuracy: 0.3481\n",
      "Epoch 168/200\n",
      "679/679 [==============================] - 86s 126ms/step - loss: 2.3643 - masked_accuracy: 0.4658 - val_loss: 3.8686 - val_masked_accuracy: 0.3451\n",
      "Epoch 169/200\n",
      "679/679 [==============================] - 85s 126ms/step - loss: 2.3610 - masked_accuracy: 0.4659 - val_loss: 3.8820 - val_masked_accuracy: 0.3457\n",
      "Epoch 170/200\n",
      "679/679 [==============================] - 85s 126ms/step - loss: 2.3624 - masked_accuracy: 0.4682 - val_loss: 3.8973 - val_masked_accuracy: 0.3333\n",
      "Epoch 171/200\n",
      "679/679 [==============================] - 86s 126ms/step - loss: 2.3595 - masked_accuracy: 0.4668 - val_loss: 3.8646 - val_masked_accuracy: 0.3350\n",
      "Epoch 172/200\n",
      "679/679 [==============================] - 86s 126ms/step - loss: 2.3560 - masked_accuracy: 0.4689 - val_loss: 3.9012 - val_masked_accuracy: 0.3423\n",
      "Epoch 173/200\n",
      "679/679 [==============================] - 86s 126ms/step - loss: 2.3483 - masked_accuracy: 0.4699 - val_loss: 3.8671 - val_masked_accuracy: 0.3440\n",
      "Epoch 174/200\n",
      "679/679 [==============================] - 85s 125ms/step - loss: 2.3489 - masked_accuracy: 0.4688 - val_loss: 3.8758 - val_masked_accuracy: 0.3462\n",
      "Epoch 175/200\n",
      "679/679 [==============================] - 85s 126ms/step - loss: 2.3500 - masked_accuracy: 0.4684 - val_loss: 3.8851 - val_masked_accuracy: 0.3335\n",
      "Epoch 176/200\n",
      "679/679 [==============================] - 85s 126ms/step - loss: 2.3459 - masked_accuracy: 0.4695 - val_loss: 3.8718 - val_masked_accuracy: 0.3458\n",
      "Epoch 177/200\n",
      "679/679 [==============================] - 86s 127ms/step - loss: 2.3426 - masked_accuracy: 0.4706 - val_loss: 3.8660 - val_masked_accuracy: 0.3472\n",
      "Epoch 178/200\n",
      "679/679 [==============================] - 85s 126ms/step - loss: 2.3422 - masked_accuracy: 0.4694 - val_loss: 3.9103 - val_masked_accuracy: 0.3292\n",
      "Epoch 179/200\n",
      "679/679 [==============================] - 86s 126ms/step - loss: 2.3373 - masked_accuracy: 0.4702 - val_loss: 3.8907 - val_masked_accuracy: 0.3438\n",
      "Epoch 180/200\n",
      "679/679 [==============================] - 85s 126ms/step - loss: 2.3378 - masked_accuracy: 0.4695 - val_loss: 3.9056 - val_masked_accuracy: 0.3457\n",
      "Epoch 181/200\n",
      "679/679 [==============================] - 85s 125ms/step - loss: 2.3317 - masked_accuracy: 0.4719 - val_loss: 3.8755 - val_masked_accuracy: 0.3488\n",
      "Epoch 182/200\n",
      "679/679 [==============================] - 86s 126ms/step - loss: 2.3318 - masked_accuracy: 0.4714 - val_loss: 3.8948 - val_masked_accuracy: 0.3491\n",
      "Epoch 183/200\n",
      "679/679 [==============================] - 85s 125ms/step - loss: 2.3273 - masked_accuracy: 0.4726 - val_loss: 3.8882 - val_masked_accuracy: 0.3343\n",
      "Epoch 184/200\n",
      "679/679 [==============================] - 86s 126ms/step - loss: 2.3253 - masked_accuracy: 0.4730 - val_loss: 3.8768 - val_masked_accuracy: 0.3370\n",
      "Epoch 185/200\n",
      "679/679 [==============================] - 85s 125ms/step - loss: 2.3276 - masked_accuracy: 0.4715 - val_loss: 3.8788 - val_masked_accuracy: 0.3470\n",
      "Epoch 186/200\n",
      "679/679 [==============================] - 85s 125ms/step - loss: 2.3238 - masked_accuracy: 0.4728 - val_loss: 3.8867 - val_masked_accuracy: 0.3456\n",
      "Epoch 187/200\n",
      "679/679 [==============================] - 85s 126ms/step - loss: 2.3209 - masked_accuracy: 0.4737 - val_loss: 3.8927 - val_masked_accuracy: 0.3483\n",
      "Epoch 188/200\n",
      "679/679 [==============================] - 85s 125ms/step - loss: 2.3156 - masked_accuracy: 0.4751 - val_loss: 3.8889 - val_masked_accuracy: 0.3394\n",
      "Epoch 189/200\n",
      "679/679 [==============================] - 85s 125ms/step - loss: 2.3166 - masked_accuracy: 0.4737 - val_loss: 3.8988 - val_masked_accuracy: 0.3346\n",
      "Epoch 190/200\n",
      "679/679 [==============================] - 85s 125ms/step - loss: 2.3136 - masked_accuracy: 0.4759 - val_loss: 3.8936 - val_masked_accuracy: 0.3337\n",
      "Epoch 191/200\n",
      "679/679 [==============================] - 85s 125ms/step - loss: 2.3117 - masked_accuracy: 0.4753 - val_loss: 3.9019 - val_masked_accuracy: 0.3344\n",
      "Epoch 192/200\n",
      "679/679 [==============================] - 85s 125ms/step - loss: 2.3054 - masked_accuracy: 0.4768 - val_loss: 3.8892 - val_masked_accuracy: 0.3386\n",
      "Epoch 193/200\n",
      "679/679 [==============================] - 85s 126ms/step - loss: 2.3081 - masked_accuracy: 0.4742 - val_loss: 3.9031 - val_masked_accuracy: 0.3475\n",
      "Epoch 194/200\n",
      "679/679 [==============================] - 84s 124ms/step - loss: 2.3018 - masked_accuracy: 0.4763 - val_loss: 3.9037 - val_masked_accuracy: 0.3450\n",
      "Epoch 195/200\n",
      "679/679 [==============================] - 84s 124ms/step - loss: 2.3022 - masked_accuracy: 0.4767 - val_loss: 3.8828 - val_masked_accuracy: 0.3487\n",
      "Epoch 196/200\n",
      "679/679 [==============================] - 84s 124ms/step - loss: 2.3007 - masked_accuracy: 0.4766 - val_loss: 3.9055 - val_masked_accuracy: 0.3468\n",
      "Epoch 197/200\n",
      "679/679 [==============================] - 85s 125ms/step - loss: 2.3009 - masked_accuracy: 0.4766 - val_loss: 3.9105 - val_masked_accuracy: 0.3442\n",
      "Epoch 198/200\n",
      "679/679 [==============================] - 85s 125ms/step - loss: 2.3003 - masked_accuracy: 0.4760 - val_loss: 3.8963 - val_masked_accuracy: 0.3480\n",
      "Epoch 199/200\n"
     ]
    },
    {
     "name": "stdout",
     "output_type": "stream",
     "text": [
      "679/679 [==============================] - 85s 125ms/step - loss: 2.2964 - masked_accuracy: 0.4775 - val_loss: 3.8830 - val_masked_accuracy: 0.3458\n",
      "Epoch 200/200\n",
      "679/679 [==============================] - 85s 125ms/step - loss: 2.2905 - masked_accuracy: 0.4784 - val_loss: 3.9365 - val_masked_accuracy: 0.3435\n"
     ]
    }
   ],
   "source": [
    "inputVocabSize = tokenizers.en.get_vocab_size().numpy()\n",
    "outputVocabSize = inputVocabSize\n",
    "#tf.placeholder\n",
    "with strategy.scope():\n",
    "    transformer = Transformer(\n",
    "        num_layers=num_layers,\n",
    "        d_model=d_model,\n",
    "        num_heads=num_heads,\n",
    "        dff=dff,\n",
    "        input_vocab_size=inputVocabSize, # this has been changed\n",
    "        target_vocab_size=outputVocabSize, # this has been changed\n",
    "        dropout_rate=dropout_rate)\n",
    "    transformer.compile(\n",
    "    loss=masked_loss,\n",
    "    optimizer=optimizer,\n",
    "    metrics=[masked_accuracy])\n",
    "    \n",
    "    callbacks = [\n",
    "        keras.callbacks.ModelCheckpoint(\n",
    "            filepath=\"model.hs\",\n",
    "            save_best_only=True,\n",
    "            monitor=\"val_loss\")\n",
    "]\n",
    "    history = transformer.fit(batches,\n",
    "                epochs=200,\n",
    "                validation_data=val_batches)"
   ]
  },
  {
   "cell_type": "code",
   "execution_count": 49,
   "metadata": {
    "colab": {
     "base_uri": "https://localhost:8080/"
    },
    "executionInfo": {
     "elapsed": 741,
     "status": "ok",
     "timestamp": 1680126596175,
     "user": {
      "displayName": "Tyler Jarboe",
      "userId": "08629846309066612484"
     },
     "user_tz": 240
    },
    "id": "xLFrNt6rWLqr",
    "outputId": "db59768a-7128-4376-b398-07f436ed469d"
   },
   "outputs": [
    {
     "name": "stdout",
     "output_type": "stream",
     "text": [
      "(16, 41)\n",
      "(16, 28)\n",
      "(16, 41, 3286)\n"
     ]
    }
   ],
   "source": [
    "#testing the model\n",
    "output = transformer((DEF, SIMP))\n",
    "\n",
    "\n",
    "print(SIMP.shape)\n",
    "print(DEF.shape)\n",
    "print(output.shape)"
   ]
  },
  {
   "cell_type": "code",
   "execution_count": 50,
   "metadata": {
    "colab": {
     "base_uri": "https://localhost:8080/",
     "height": 469
    },
    "executionInfo": {
     "elapsed": 29,
     "status": "ok",
     "timestamp": 1680129969782,
     "user": {
      "displayName": "Tyler Jarboe",
      "userId": "08629846309066612484"
     },
     "user_tz": 240
    },
    "id": "LnsQnXd_Et1h",
    "outputId": "667db9e1-3602-4aee-fbe3-2c74f07443dc"
   },
   "outputs": [
    {
     "data": {
      "image/png": "[encoded data removed]",
      "text/plain": [
       "<Figure size 640x480 with 1 Axes>"
      ]
     },
     "metadata": {},
     "output_type": "display_data"
    },
    {
     "data": {
      "text/plain": [
       "<Figure size 640x480 with 0 Axes>"
      ]
     },
     "metadata": {},
     "output_type": "display_data"
    }
   ],
   "source": [
    "import matplotlib.pyplot as plt\n",
    "accuracy = history.history[\"loss\"]\n",
    "val_accuracy = history.history[\"val_loss\"]\n",
    "epochs = range(1, len(accuracy) + 1)\n",
    "plt.plot(epochs, accuracy, \"bo\", label=\"Training\")\n",
    "plt.plot(epochs, val_accuracy, \"b\", label=\"Validation\")\n",
    "plt.title(\"Training and validation LOSS\")\n",
    "plt.legend()\n",
    "plt.figure()\n",
    "plt.show()"
   ]
  },
  {
   "cell_type": "code",
   "execution_count": 51,
   "metadata": {
    "colab": {
     "base_uri": "https://localhost:8080/",
     "height": 469
    },
    "executionInfo": {
     "elapsed": 600,
     "status": "ok",
     "timestamp": 1680129970362,
     "user": {
      "displayName": "Tyler Jarboe",
      "userId": "08629846309066612484"
     },
     "user_tz": 240
    },
    "id": "dRD_Hl7xEt4W",
    "outputId": "96fb42ad-993e-4fc0-f71b-a14f3939c999"
   },
   "outputs": [
    {
     "data": {
      "image/png": "[encoded data removed]",
      "text/plain": [
       "<Figure size 640x480 with 1 Axes>"
      ]
     },
     "metadata": {},
     "output_type": "display_data"
    },
    {
     "data": {
      "text/plain": [
       "<Figure size 640x480 with 0 Axes>"
      ]
     },
     "metadata": {},
     "output_type": "display_data"
    }
   ],
   "source": [
    "import matplotlib.pyplot as plt\n",
    "accuracy = history.history[\"masked_accuracy\"]\n",
    "val_accuracy = history.history[\"val_masked_accuracy\"]\n",
    "epochs = range(1, len(accuracy) + 1)\n",
    "plt.plot(epochs, accuracy, \"bo\", label=\"Training\")\n",
    "plt.plot(epochs, val_accuracy, \"b\", label=\"Validation\")\n",
    "plt.title(\"Training and validation masked_accuracy\")\n",
    "plt.legend()\n",
    "plt.figure()\n",
    "plt.show()"
   ]
  },
  {
   "cell_type": "markdown",
   "metadata": {
    "id": "UoW3TM-iZuoU"
   },
   "source": [
    "Predicting on New Text"
   ]
  },
  {
   "cell_type": "code",
   "execution_count": 52,
   "metadata": {
    "executionInfo": {
     "elapsed": 27,
     "status": "ok",
     "timestamp": 1680129970364,
     "user": {
      "displayName": "Tyler Jarboe",
      "userId": "08629846309066612484"
     },
     "user_tz": 240
    },
    "id": "1-7f0aa_ZwsB"
   },
   "outputs": [],
   "source": [
    "#class to handle the predictions to the model\n",
    "class Translator(tf.Module):\n",
    "  def __init__(self, tokenizers, transformer):\n",
    "    self.tokenizers = tokenizers\n",
    "    self.transformer = transformer\n",
    "\n",
    "  def __call__(self, sentence, max_length=MAX_TOKENS):\n",
    "    print(sentence)\n",
    "    print(max_length)\n",
    "    \n",
    "    # The input sentence is Portuguese, hence adding the `[START]` and `[END]` tokens.\n",
    "    assert isinstance(sentence, tf.Tensor)\n",
    "    if len(sentence.shape) == 0:\n",
    "      sentence = sentence[tf.newaxis]\n",
    "\n",
    "    sentence = self.tokenizers.en.tokenize(sentence)\n",
    "    print(sentence)\n",
    "    sentence = sentence.to_tensor()\n",
    "\n",
    "    encoder_input = sentence\n",
    "\n",
    "    # As the output language is English, initialize the output with the\n",
    "    # English `[START]` token.\n",
    "    start_end = self.tokenizers.en.tokenize([''])[0]\n",
    "    start = start_end[0][tf.newaxis]\n",
    "    end = start_end[1][tf.newaxis]\n",
    "    print(\"Start: \" + str(start))\n",
    "    print(\"End: \" + str(end))\n",
    "\n",
    "    # `tf.TensorArray` is required here (instead of a Python list), so that the\n",
    "    # dynamic-loop can be traced by `tf.function`.\n",
    "    output_array = tf.TensorArray(dtype=tf.int64, size=0, dynamic_size=True)\n",
    "    output_array = output_array.write(0, start)\n",
    "\n",
    "    for i in tf.range(max_length):\n",
    "      output = tf.transpose(output_array.stack())\n",
    "      predictions = self.transformer([encoder_input, output], training=False)\n",
    "\n",
    "      # Select the last token from the `seq_len` dimension.\n",
    "      predictions = predictions[:, -1:, :]  # Shape `(batch_size, 1, vocab_size)`.\n",
    "\n",
    "      predicted_id = tf.argmax(predictions, axis=-1)\n",
    "\n",
    "      # Concatenate the `predicted_id` to the output which is given to the\n",
    "      # decoder as its input.\n",
    "      output_array = output_array.write(i+1, predicted_id[0])\n",
    "\n",
    "      if predicted_id == end:\n",
    "        break\n",
    "\n",
    "    output = tf.transpose(output_array.stack())\n",
    "    # The output shape is `(1, tokens)`.\n",
    "    text = tokenizers.en.detokenize(output)[0]  # Shape: `()`.\n",
    "\n",
    "    tokens = tokenizers.en.lookup(output)[0]\n",
    "\n",
    "    # `tf.function` prevents us from using the attention_weights that were\n",
    "    # calculated on the last iteration of the loop.\n",
    "    # So, recalculate them outside the loop.\n",
    "    self.transformer([encoder_input, output[:,:-1]], training=False)\n",
    "    attention_weights = self.transformer.decoder.last_attn_scores\n",
    "\n",
    "    return text, tokens, attention_weights"
   ]
  },
  {
   "cell_type": "code",
   "execution_count": 53,
   "metadata": {
    "executionInfo": {
     "elapsed": 27,
     "status": "ok",
     "timestamp": 1680129970366,
     "user": {
      "displayName": "Tyler Jarboe",
      "userId": "08629846309066612484"
     },
     "user_tz": 240
    },
    "id": "UrFtwWkoa7KP"
   },
   "outputs": [],
   "source": [
    "translator = Translator(tokenizer, transformer)"
   ]
  },
  {
   "cell_type": "markdown",
   "metadata": {
    "id": "iF-Y3VZUbNWC"
   },
   "source": [
    "Exporting"
   ]
  },
  {
   "cell_type": "code",
   "execution_count": 54,
   "metadata": {
    "executionInfo": {
     "elapsed": 26,
     "status": "ok",
     "timestamp": 1680129970367,
     "user": {
      "displayName": "Tyler Jarboe",
      "userId": "08629846309066612484"
     },
     "user_tz": 240
    },
    "id": "IciTOXXPbN89"
   },
   "outputs": [],
   "source": [
    "class ExportTranslator(tf.Module):\n",
    "  def __init__(self, translator):\n",
    "    self.translator = translator\n",
    "\n",
    "  @tf.function(input_signature=[tf.TensorSpec(shape=[], dtype=tf.string)])\n",
    "  def __call__(self, sentence):\n",
    "    (result,\n",
    "     tokens,\n",
    "     attention_weights) = self.translator(sentence, max_length=MAX_TOKENS)\n",
    "\n",
    "    return result"
   ]
  },
  {
   "cell_type": "code",
   "execution_count": 55,
   "metadata": {
    "executionInfo": {
     "elapsed": 23,
     "status": "ok",
     "timestamp": 1680129970368,
     "user": {
      "displayName": "Tyler Jarboe",
      "userId": "08629846309066612484"
     },
     "user_tz": 240
    },
    "id": "0U9svpb7bSnO"
   },
   "outputs": [],
   "source": [
    "translator = ExportTranslator(translator)"
   ]
  },
  {
   "cell_type": "markdown",
   "metadata": {
    "id": "TV0bQnTvbXw0"
   },
   "source": [
    "Random Predictions (Hopefully Works)"
   ]
  },
  {
   "cell_type": "code",
   "execution_count": 56,
   "metadata": {
    "colab": {
     "base_uri": "https://localhost:8080/"
    },
    "executionInfo": {
     "elapsed": 10477,
     "status": "ok",
     "timestamp": 1680129980824,
     "user": {
      "displayName": "Tyler Jarboe",
      "userId": "08629846309066612484"
     },
     "user_tz": 240
    },
    "id": "o3zr2RYybaY1",
    "outputId": "608d2df6-e056-44d5-85bc-9623c1069065"
   },
   "outputs": [
    {
     "name": "stdout",
     "output_type": "stream",
     "text": [
      "Tensor(\"sentence:0\", shape=(), dtype=string)\n",
      "200\n",
      "tf.RaggedTensor(values=Tensor(\"StatefulPartitionedCall:0\", shape=(None,), dtype=int64), row_splits=Tensor(\"StatefulPartitionedCall:1\", shape=(None,), dtype=int64))\n",
      "Start: Tensor(\"strided_slice_2:0\", shape=(1,), dtype=int64)\n",
      "End: Tensor(\"strided_slice_4:0\", shape=(1,), dtype=int64)\n"
     ]
    },
    {
     "data": {
      "text/plain": [
       "b'a person who is very great deal about something .'"
      ]
     },
     "execution_count": 56,
     "metadata": {},
     "output_type": "execute_result"
    }
   ],
   "source": [
    "translator(\"a supposition or proposed explanation made on the basis of limited evidence as a starting point for further investigation.\").numpy()"
   ]
  },
  {
   "cell_type": "code",
   "execution_count": 57,
   "metadata": {},
   "outputs": [
    {
     "data": {
      "text/plain": [
       "b'a person who is very great deal about something .'"
      ]
     },
     "execution_count": 57,
     "metadata": {},
     "output_type": "execute_result"
    }
   ],
   "source": [
    "sentence = x[0]\n",
    "translator(sentence).numpy()"
   ]
  },
  {
   "cell_type": "code",
   "execution_count": 58,
   "metadata": {},
   "outputs": [
    {
     "data": {
      "text/plain": [
       "b'one who exercises more than common power of attraction '"
      ]
     },
     "execution_count": 58,
     "metadata": {},
     "output_type": "execute_result"
    }
   ],
   "source": [
    "x[0]"
   ]
  }
 ],
 "metadata": {
  "accelerator": "GPU",
  "colab": {
   "provenance": []
  },
  "gpuClass": "standard",
  "kernelspec": {
   "display_name": "Python 3 (ipykernel)",
   "language": "python",
   "name": "python3"
  },
  "language_info": {
   "codemirror_mode": {
    "name": "ipython",
    "version": 3
   },
   "file_extension": ".py",
   "mimetype": "text/x-python",
   "name": "python",
   "nbconvert_exporter": "python",
   "pygments_lexer": "ipython3",
   "version": "3.9.16"
  },
  "vscode": {
   "interpreter": {
    "hash": "a675ecb475794e98cc508edff942b4df7efb840dcd0161848ec7416e01ca0315"
   }
  }
 },
 "nbformat": 4,
 "nbformat_minor": 1
}
